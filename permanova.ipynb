{
 "cells": [
  {
   "cell_type": "markdown",
   "metadata": {
    "run_control": {
     "frozen": false,
     "read_only": false
    }
   },
   "source": [
    "# PERMANOVA"
   ]
  },
  {
   "cell_type": "code",
   "execution_count": 8,
   "metadata": {
    "ExecuteTime": {
     "end_time": "2017-06-23T16:43:05.781238Z",
     "start_time": "2017-06-23T16:43:05.757Z"
    },
    "collapsed": false,
    "run_control": {
     "frozen": false,
     "read_only": false
    }
   },
   "outputs": [],
   "source": [
    "#setwd('/Users/firasmidani/Documents/ibiem/20170620/ibiem')\n",
    "\n",
    "library(vegan)"
   ]
  },
  {
   "cell_type": "markdown",
   "metadata": {
    "run_control": {
     "frozen": false,
     "read_only": false
    }
   },
   "source": [
    "** Import data **"
   ]
  },
  {
   "cell_type": "code",
   "execution_count": 9,
   "metadata": {
    "ExecuteTime": {
     "end_time": "2017-06-23T16:43:06.764686Z",
     "start_time": "2017-06-23T16:43:06.716Z"
    },
    "collapsed": false,
    "run_control": {
     "frozen": false,
     "read_only": false
    }
   },
   "outputs": [],
   "source": [
    "mapping = read.table(file='./data/mapping_file.txt',\n",
    "                      sep='\\t',comment.char='', \n",
    "                      header=TRUE,row.names=1,check.names=FALSE)\n",
    "alpha = read.table(file='./data/alpha.txt',\n",
    "                   sep='\\t',comment.char='', \n",
    "                   header=TRUE,row.names=1,check.names=FALSE)\n",
    "\n",
    "distance_files = c('./distance_matrices/unweighted_unifrac_otu_table.txt',\n",
    "                   './distance_matrices/weighted_unifrac_otu_table.txt')\n",
    "\n",
    "distances_summary = c('unweighted_unifrac','weighted_unifrac')"
   ]
  },
  {
   "cell_type": "markdown",
   "metadata": {
    "run_control": {
     "frozen": false,
     "read_only": false
    }
   },
   "source": [
    "** Disclaimer ** <br/><br/>\n",
    "As Qinglong pointed out, ANOVA tests with unbalanced designs is sensitive to order of the variables. After testing it, this seems to apply to PERMANVOA as well; our data is definitely unbalanced (see below). \n",
    "<br/><br/>\n",
    "\n"
   ]
  },
  {
   "cell_type": "markdown",
   "metadata": {
    "run_control": {
     "frozen": false,
     "read_only": false
    }
   },
   "source": [
    "In other words, \n",
    "<br/>$$dist \\sim DietType + TaxaFamily$$\n",
    "<br/> gives you a different result than\n",
    "<br/>$$dist \\sim TaxaFamily + DietType$$<br/>\n",
    "After munging through the inter-webs, I can not find a solution to this issue. So, we might have to rely on simply running univariate ANOVA, so simply\n",
    "<br/>$$dist \\sim DietType$$<br/>\n",
    "and\n",
    "<br/>$$dist \\sim TaxaFamily$$<br/>\n",
    "and compre these models (which I implement below)."
   ]
  },
  {
   "cell_type": "markdown",
   "metadata": {},
   "source": [
    "## Univariate effects"
   ]
  },
  {
   "cell_type": "markdown",
   "metadata": {
    "run_control": {
     "frozen": false,
     "read_only": false
    }
   },
   "source": [
    "**Weighted Unifrac**"
   ]
  },
  {
   "cell_type": "code",
   "execution_count": 21,
   "metadata": {
    "ExecuteTime": {
     "end_time": "2017-06-23T16:55:55.858835Z",
     "start_time": "2017-06-23T16:55:40.435Z"
    },
    "code_folding": [],
    "collapsed": false,
    "run_control": {
     "frozen": false,
     "read_only": false
    }
   },
   "outputs": [
    {
     "name": "stdout",
     "output_type": "stream",
     "text": [
      "[1] \"./distance_matrices/weighted_unifrac_otu_table.txt\"\n",
      "\n",
      "Call:\n",
      "adonis(formula = dist ~ SpeciesName + (1 | Batch), data = mapping[rownames(use),      ], permutations = 10000) \n",
      "\n",
      "Permutation: free\n",
      "Number of permutations: 10000\n",
      "\n",
      "Terms added sequentially (first to last)\n",
      "\n",
      "             Df SumsOfSqs MeanSqs F.Model      R2    Pr(>F)    \n",
      "SpeciesName   8   10.5722 1.32153  18.312 0.53369 9.999e-05 ***\n",
      "Residuals   128    9.2373 0.07217         0.46631              \n",
      "Total       136   19.8095                 1.00000              \n",
      "---\n",
      "Signif. codes:  0 ‘***’ 0.001 ‘**’ 0.01 ‘*’ 0.05 ‘.’ 0.1 ‘ ’ 1\n",
      "\n",
      "Call:\n",
      "adonis(formula = dist ~ TaxaFamily + (1 | Batch), data = mapping[rownames(use),      ], permutations = 10000) \n",
      "\n",
      "Permutation: free\n",
      "Number of permutations: 10000\n",
      "\n",
      "Terms added sequentially (first to last)\n",
      "\n",
      "            Df SumsOfSqs MeanSqs F.Model      R2    Pr(>F)    \n",
      "TaxaFamily   5    8.6364 1.72727  20.251 0.43597 9.999e-05 ***\n",
      "Residuals  131   11.1732 0.08529         0.56403              \n",
      "Total      136   19.8095                 1.00000              \n",
      "---\n",
      "Signif. codes:  0 ‘***’ 0.001 ‘**’ 0.01 ‘*’ 0.05 ‘.’ 0.1 ‘ ’ 1\n",
      "\n",
      "Call:\n",
      "adonis(formula = dist ~ DietType + (1 | Batch), data = mapping[rownames(use),      ], permutations = 10000) \n",
      "\n",
      "Permutation: free\n",
      "Number of permutations: 10000\n",
      "\n",
      "Terms added sequentially (first to last)\n",
      "\n",
      "           Df SumsOfSqs MeanSqs F.Model     R2    Pr(>F)    \n",
      "DietType    2    7.3414  3.6707  39.451 0.3706 9.999e-05 ***\n",
      "Residuals 134   12.4681  0.0930         0.6294              \n",
      "Total     136   19.8095                 1.0000              \n",
      "---\n",
      "Signif. codes:  0 ‘***’ 0.001 ‘**’ 0.01 ‘*’ 0.05 ‘.’ 0.1 ‘ ’ 1\n"
     ]
    }
   ],
   "source": [
    "distance_file = './distance_matrices/weighted_unifrac_otu_table.txt'\n",
    "\n",
    "print(distance_file)\n",
    "\n",
    "use  = read.table(file=distance_file,sep='\\t',comment.char='',\n",
    "                header=TRUE,row.names=1,check.names=FALSE)\n",
    "use  = use[,rownames(use)]\n",
    "dist = as.dist(use);\n",
    "\n",
    "model = adonis(dist ~ SpeciesName + (1|Batch),\n",
    "             data=mapping[rownames(use),],\n",
    "             permutations =10000)  \n",
    "print(model)\n",
    "\n",
    "model = adonis(dist ~ TaxaFamily + (1|Batch),\n",
    "             data=mapping[rownames(use),],\n",
    "             permutations =10000)  \n",
    "print(model)\n",
    "\n",
    "model = adonis(dist ~ DietType +  (1|Batch),\n",
    "             data=mapping[rownames(use),],\n",
    "             permutations =10000)  \n",
    "print(model)\n"
   ]
  },
  {
   "cell_type": "markdown",
   "metadata": {
    "run_control": {
     "frozen": false,
     "read_only": false
    }
   },
   "source": [
    "**Unweighted Unifrac**"
   ]
  },
  {
   "cell_type": "code",
   "execution_count": 13,
   "metadata": {
    "ExecuteTime": {
     "end_time": "2017-06-22T16:14:16.773198Z",
     "start_time": "2017-06-22T16:14:00.281Z"
    },
    "collapsed": false,
    "run_control": {
     "frozen": false,
     "read_only": false
    }
   },
   "outputs": [
    {
     "name": "stdout",
     "output_type": "stream",
     "text": [
      "[1] \"./distance_matrices/unweighted_unifrac_otu_table.txt\"\n",
      "[2] \"./distance_matrices/weighted_unifrac_otu_table.txt\"  \n",
      "\n",
      "Call:\n",
      "adonis(formula = dist ~ SpeciesName + (1 | Batch), data = mapping[rownames(use),      ], permutations = 10000) \n",
      "\n",
      "Permutation: free\n",
      "Number of permutations: 10000\n",
      "\n",
      "Terms added sequentially (first to last)\n",
      "\n",
      "             Df SumsOfSqs MeanSqs F.Model     R2    Pr(>F)    \n",
      "SpeciesName   8    12.277 1.53462   5.322 0.2496 9.999e-05 ***\n",
      "Residuals   128    36.909 0.28835         0.7504              \n",
      "Total       136    49.186                 1.0000              \n",
      "---\n",
      "Signif. codes:  0 ‘***’ 0.001 ‘**’ 0.01 ‘*’ 0.05 ‘.’ 0.1 ‘ ’ 1\n",
      "\n",
      "Call:\n",
      "adonis(formula = dist ~ TaxaFamily + (1 | Batch), data = mapping[rownames(use),      ], permutations = 10000) \n",
      "\n",
      "Permutation: free\n",
      "Number of permutations: 10000\n",
      "\n",
      "Terms added sequentially (first to last)\n",
      "\n",
      "            Df SumsOfSqs MeanSqs F.Model      R2    Pr(>F)    \n",
      "TaxaFamily   5     9.885 1.97692  6.5895 0.20096 9.999e-05 ***\n",
      "Residuals  131    39.301 0.30001         0.79904              \n",
      "Total      136    49.186                 1.00000              \n",
      "---\n",
      "Signif. codes:  0 ‘***’ 0.001 ‘**’ 0.01 ‘*’ 0.05 ‘.’ 0.1 ‘ ’ 1\n",
      "\n",
      "Call:\n",
      "adonis(formula = dist ~ DietType + (1 | Batch), data = mapping[rownames(use),      ], permutations = 10000) \n",
      "\n",
      "Permutation: free\n",
      "Number of permutations: 10000\n",
      "\n",
      "Terms added sequentially (first to last)\n",
      "\n",
      "           Df SumsOfSqs MeanSqs F.Model      R2    Pr(>F)    \n",
      "DietType    2     7.750  3.8751  12.532 0.15757 9.999e-05 ***\n",
      "Residuals 134    41.436  0.3092         0.84243              \n",
      "Total     136    49.186                 1.00000              \n",
      "---\n",
      "Signif. codes:  0 ‘***’ 0.001 ‘**’ 0.01 ‘*’ 0.05 ‘.’ 0.1 ‘ ’ 1\n"
     ]
    }
   ],
   "source": [
    "distance_file = './distance_matrices/unweighted_unifrac_otu_table.txt'\n",
    "\n",
    "print(distance_files)\n",
    "\n",
    "use  = read.table(file=distance_file,sep='\\t',comment.char='',\n",
    "                header=TRUE,row.names=1,check.names=FALSE)\n",
    "use  = use[,rownames(use)]\n",
    "dist = as.dist(use);\n",
    "\n",
    "model = adonis(dist ~ SpeciesName + (1|Batch),\n",
    "             data=mapping[rownames(use),],\n",
    "             permutations =10000)  \n",
    "print(model)\n",
    "\n",
    "model = adonis(dist ~ TaxaFamily + (1|Batch),\n",
    "             data=mapping[rownames(use),],\n",
    "             permutations =10000)  \n",
    "print(model)\n",
    "\n",
    "model = adonis(dist ~ DietType +  (1|Batch),\n",
    "             data=mapping[rownames(use),],\n",
    "             permutations =10000)  \n",
    "print(model)\n",
    "\n"
   ]
  },
  {
   "cell_type": "markdown",
   "metadata": {
    "run_control": {
     "frozen": false,
     "read_only": false
    }
   },
   "source": [
    "## Multivarite marginal effects"
   ]
  },
  {
   "cell_type": "code",
   "execution_count": 30,
   "metadata": {
    "ExecuteTime": {
     "end_time": "2017-06-23T17:02:42.081200Z",
     "start_time": "2017-06-23T17:01:45.999Z"
    },
    "collapsed": false,
    "run_control": {
     "frozen": false,
     "read_only": false
    }
   },
   "outputs": [
    {
     "name": "stdout",
     "output_type": "stream",
     "text": [
      "[1] \"./distance_matrices/weighted_unifrac_otu_table.txt\"\n",
      "Permutation test for adonis under reduced model\n",
      "Marginal effects of terms\n",
      "Permutation: free\n",
      "Number of permutations: 10000\n",
      "\n",
      "adonis2(formula = dist ~ DietType + TaxaFamily, data = mapping[rownames(use), ], permutations = 10000, by = \"margin\")\n",
      "            Df SumOfSqs      F    Pr(>F)    \n",
      "DietType     1   0.6721 8.3200 9.999e-05 ***\n",
      "TaxaFamily   4   1.9670 6.0877 9.999e-05 ***\n",
      "Residual   130  10.5011                     \n",
      "---\n",
      "Signif. codes:  0 ‘***’ 0.001 ‘**’ 0.01 ‘*’ 0.05 ‘.’ 0.1 ‘ ’ 1\n",
      "Permutation test for adonis under reduced model\n",
      "Marginal effects of terms\n",
      "Permutation: free\n",
      "Number of permutations: 10000\n",
      "\n",
      "adonis2(formula = dist ~ TaxaFamily + DietType, data = mapping[rownames(use), ], permutations = 10000, by = \"margin\")\n",
      "            Df SumOfSqs      F    Pr(>F)    \n",
      "TaxaFamily   4   1.9670 6.0877 9.999e-05 ***\n",
      "DietType     1   0.6721 8.3200 9.999e-05 ***\n",
      "Residual   130  10.5011                     \n",
      "---\n",
      "Signif. codes:  0 ‘***’ 0.001 ‘**’ 0.01 ‘*’ 0.05 ‘.’ 0.1 ‘ ’ 1\n"
     ]
    }
   ],
   "source": [
    "distance_file = './distance_matrices/weighted_unifrac_otu_table.txt'\n",
    "\n",
    "print(distance_file)\n",
    "\n",
    "use  = read.table(file=distance_file,sep='\\t',comment.char='',\n",
    "                header=TRUE,row.names=1,check.names=FALSE)\n",
    "use  = use[,rownames(use)]\n",
    "dist = as.dist(use);\n",
    "\n",
    "model = adonis2(dist ~ DietType + TaxaFamily,\n",
    "             data=mapping[rownames(use),],\n",
    "             permutations =10000,\n",
    "             by='margin')  \n",
    "print (model)\n",
    "\n",
    "model = adonis2(dist ~ TaxaFamily + DietType,\n",
    "             data=mapping[rownames(use),],\n",
    "             permutations =10000,\n",
    "             by='margin')   \n",
    "print(model)"
   ]
  },
  {
   "cell_type": "code",
   "execution_count": 28,
   "metadata": {
    "ExecuteTime": {
     "end_time": "2017-06-23T17:01:51.520550Z",
     "start_time": "2017-06-23T17:00:45.410Z"
    },
    "collapsed": false
   },
   "outputs": [
    {
     "name": "stdout",
     "output_type": "stream",
     "text": [
      "[1] \"./distance_matrices/weighted_unifrac_otu_table.txt\"\n",
      "Permutation test for adonis under reduced model\n",
      "Marginal effects of terms\n",
      "Permutation: free\n",
      "Number of permutations: 10000\n",
      "\n",
      "adonis2(formula = dist ~ DietType + TaxaFamily, data = mapping[rownames(use), ], permutations = 10000, by = \"margin\")\n",
      "            Df SumOfSqs      F    Pr(>F)    \n",
      "DietType     1   0.6721 8.3200 9.999e-05 ***\n",
      "TaxaFamily   4   1.9670 6.0877 9.999e-05 ***\n",
      "Residual   130  10.5011                     \n",
      "---\n",
      "Signif. codes:  0 ‘***’ 0.001 ‘**’ 0.01 ‘*’ 0.05 ‘.’ 0.1 ‘ ’ 1\n",
      "Permutation test for adonis under reduced model\n",
      "Marginal effects of terms\n",
      "Permutation: free\n",
      "Number of permutations: 10000\n",
      "\n",
      "adonis2(formula = dist ~ TaxaFamily + DietType, data = mapping[rownames(use), ], permutations = 10000, by = \"margin\")\n",
      "            Df SumOfSqs      F    Pr(>F)    \n",
      "TaxaFamily   4   1.9670 6.0877 9.999e-05 ***\n",
      "DietType     1   0.6721 8.3200 9.999e-05 ***\n",
      "Residual   130  10.5011                     \n",
      "---\n",
      "Signif. codes:  0 ‘***’ 0.001 ‘**’ 0.01 ‘*’ 0.05 ‘.’ 0.1 ‘ ’ 1\n"
     ]
    }
   ],
   "source": [
    "distance_file = './distance_matrices/weighted_unifrac_otu_table.txt'\n",
    "\n",
    "print(distance_file)\n",
    "\n",
    "use  = read.table(file=distance_file,sep='\\t',comment.char='',\n",
    "                header=TRUE,row.names=1,check.names=FALSE)\n",
    "use  = use[,rownames(use)]\n",
    "dist = as.dist(use);\n",
    "\n",
    "model = adonis2(dist ~ DietType + TaxaFamily,\n",
    "             data=mapping[rownames(use),],\n",
    "             permutations =10000,\n",
    "             by='margin')  \n",
    "print (model)\n",
    "\n",
    "model = adonis2(dist ~ TaxaFamily + DietType,\n",
    "             data=mapping[rownames(use),],\n",
    "             permutations =10000,\n",
    "             by='margin')   \n",
    "print(model)"
   ]
  },
  {
   "cell_type": "code",
   "execution_count": 29,
   "metadata": {
    "ExecuteTime": {
     "end_time": "2017-06-23T17:01:51.548259Z",
     "start_time": "2017-06-23T17:00:47.035Z"
    },
    "collapsed": false,
    "run_control": {
     "frozen": false,
     "read_only": false
    }
   },
   "outputs": [
    {
     "data": {
      "text/plain": [
       "             TaxaFamily\n",
       "DietType      Cheriogaleidae Daubentoniidae Galagidae Indriidae Lemuridae\n",
       "  folivore                 0              0         0        31         4\n",
       "  insectivore             38              3         1         0         0\n",
       "  omnivore                 0              0         0         0        58\n",
       "             TaxaFamily\n",
       "DietType      Lorisidae\n",
       "  folivore            0\n",
       "  insectivore         2\n",
       "  omnivore            0"
      ]
     },
     "metadata": {},
     "output_type": "display_data"
    }
   ],
   "source": [
    "with(mapping[rownames(use),],table(DietType,TaxaFamily))"
   ]
  }
 ],
 "metadata": {
  "hide_input": false,
  "kernelspec": {
   "display_name": "R",
   "language": "R",
   "name": "ir"
  },
  "language_info": {
   "codemirror_mode": "r",
   "file_extension": ".r",
   "mimetype": "text/x-r-source",
   "name": "R",
   "pygments_lexer": "r",
   "version": "3.3.1"
  },
  "toc": {
   "colors": {
    "hover_highlight": "#DAA520",
    "running_highlight": "#FF0000",
    "selected_highlight": "#FFD700"
   },
   "moveMenuLeft": true,
   "nav_menu": {
    "height": "48px",
    "width": "252px"
   },
   "navigate_menu": true,
   "number_sections": true,
   "sideBar": true,
   "threshold": 4,
   "toc_cell": false,
   "toc_section_display": "block",
   "toc_window_display": true,
   "widenNotebook": false
  }
 },
 "nbformat": 4,
 "nbformat_minor": 2
}
