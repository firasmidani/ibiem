{
 "cells": [
  {
   "cell_type": "markdown",
   "metadata": {
    "run_control": {
     "frozen": false,
     "read_only": false
    }
   },
   "source": [
    "# PERMANOVA"
   ]
  },
  {
   "cell_type": "code",
   "execution_count": 1,
   "metadata": {
    "ExecuteTime": {
     "end_time": "2017-07-09T19:53:28.744264Z",
     "start_time": "2017-07-09T19:53:27.765Z"
    },
    "collapsed": false,
    "run_control": {
     "frozen": false,
     "read_only": false
    }
   },
   "outputs": [
    {
     "name": "stderr",
     "output_type": "stream",
     "text": [
      "Warning message:\n",
      "“package ‘vegan’ was built under R version 3.3.2”Loading required package: permute\n",
      "Loading required package: lattice\n",
      "This is vegan 2.4-2\n"
     ]
    }
   ],
   "source": [
    "#setwd('/Users/firasmidani/Documents/ibiem/20170620/ibiem')\n",
    "\n",
    "library(vegan)"
   ]
  },
  {
   "cell_type": "markdown",
   "metadata": {
    "run_control": {
     "frozen": false,
     "read_only": false
    }
   },
   "source": [
    "** Import data **"
   ]
  },
  {
   "cell_type": "code",
   "execution_count": 2,
   "metadata": {
    "ExecuteTime": {
     "end_time": "2017-07-09T19:53:29.202644Z",
     "start_time": "2017-07-09T19:53:29.150Z"
    },
    "collapsed": false,
    "run_control": {
     "frozen": false,
     "read_only": false
    }
   },
   "outputs": [],
   "source": [
    "mapping = read.table(file='./data/mapping_file.txt',\n",
    "                      sep='\\t',comment.char='', \n",
    "                      header=TRUE,row.names=1,check.names=FALSE)\n",
    "alpha = read.table(file='./data/alpha.txt',\n",
    "                   sep='\\t',comment.char='', \n",
    "                   header=TRUE,row.names=1,check.names=FALSE)\n",
    "\n",
    "distance_files = c('./distance_matrices/unweighted_unifrac_dm.txt',\n",
    "                   './distance_matrices/weighted_unifrac_dm.txt')\n",
    "\n",
    "distances_summary = c('unweighted_unifrac','weighted_unifrac')"
   ]
  },
  {
   "cell_type": "markdown",
   "metadata": {
    "run_control": {
     "frozen": false,
     "read_only": false
    }
   },
   "source": [
    "** Disclaimer ** <br/><br/>\n",
    "As Qinglong pointed out, ANOVA tests with unbalanced designs is sensitive to order of the variables. After testing it, this seems to apply to PERMANVOA as well; our data is definitely unbalanced (see below). \n",
    "<br/><br/>\n",
    "\n"
   ]
  },
  {
   "cell_type": "markdown",
   "metadata": {
    "run_control": {
     "frozen": false,
     "read_only": false
    }
   },
   "source": [
    "In other words, \n",
    "<br/>$$dist \\sim DietType + TaxaFamily$$\n",
    "<br/> gives you a different result than\n",
    "<br/>$$dist \\sim TaxaFamily + DietType$$<br/>\n",
    "After munging through the inter-webs, I can not find a solution to this issue. So, we might have to rely on simply running univariate ANOVA, so simply\n",
    "<br/>$$dist \\sim DietType$$<br/>\n",
    "and\n",
    "<br/>$$dist \\sim TaxaFamily$$<br/>\n",
    "and compre these models (which I implement below)."
   ]
  },
  {
   "cell_type": "markdown",
   "metadata": {
    "run_control": {
     "frozen": false,
     "read_only": false
    }
   },
   "source": [
    "## Univariate effects"
   ]
  },
  {
   "cell_type": "markdown",
   "metadata": {
    "run_control": {
     "frozen": false,
     "read_only": false
    }
   },
   "source": [
    "**Weighted Unifrac**"
   ]
  },
  {
   "cell_type": "code",
   "execution_count": 3,
   "metadata": {
    "ExecuteTime": {
     "end_time": "2017-07-09T19:53:31.358483Z",
     "start_time": "2017-07-09T19:53:31.335Z"
    },
    "collapsed": false,
    "run_control": {
     "frozen": false,
     "read_only": false
    }
   },
   "outputs": [
    {
     "data": {
      "text/html": [
       "'/Users/firasmidani/Documents/ibiem/ibiem'"
      ],
      "text/latex": [
       "'/Users/firasmidani/Documents/ibiem/ibiem'"
      ],
      "text/markdown": [
       "'/Users/firasmidani/Documents/ibiem/ibiem'"
      ],
      "text/plain": [
       "[1] \"/Users/firasmidani/Documents/ibiem/ibiem\""
      ]
     },
     "metadata": {},
     "output_type": "display_data"
    }
   ],
   "source": [
    "getwd()"
   ]
  },
  {
   "cell_type": "code",
   "execution_count": 4,
   "metadata": {
    "ExecuteTime": {
     "end_time": "2017-07-09T19:53:46.073970Z",
     "start_time": "2017-07-09T19:53:31.509Z"
    },
    "code_folding": [],
    "collapsed": false,
    "run_control": {
     "frozen": false,
     "read_only": false
    }
   },
   "outputs": [
    {
     "name": "stdout",
     "output_type": "stream",
     "text": [
      "[1] \"./distance_matrices/weighted_unifrac_dm.txt\"\n",
      "\n",
      "Call:\n",
      "adonis(formula = dist ~ SpeciesName + (1 | Batch), data = mapping[rownames(use),      ], permutations = 10000) \n",
      "\n",
      "Permutation: free\n",
      "Number of permutations: 10000\n",
      "\n",
      "Terms added sequentially (first to last)\n",
      "\n",
      "             Df SumsOfSqs MeanSqs F.Model      R2    Pr(>F)    \n",
      "SpeciesName   8    10.602 1.32525   18.47 0.53583 9.999e-05 ***\n",
      "Residuals   128     9.184 0.07175         0.46417              \n",
      "Total       136    19.786                 1.00000              \n",
      "---\n",
      "Signif. codes:  0 ‘***’ 0.001 ‘**’ 0.01 ‘*’ 0.05 ‘.’ 0.1 ‘ ’ 1\n",
      "\n",
      "Call:\n",
      "adonis(formula = dist ~ TaxaFamily + (1 | Batch), data = mapping[rownames(use),      ], permutations = 10000) \n",
      "\n",
      "Permutation: free\n",
      "Number of permutations: 10000\n",
      "\n",
      "Terms added sequentially (first to last)\n",
      "\n",
      "            Df SumsOfSqs MeanSqs F.Model     R2    Pr(>F)    \n",
      "TaxaFamily   5    8.6486 1.72971  20.345 0.4371 9.999e-05 ***\n",
      "Residuals  131   11.1374 0.08502         0.5629              \n",
      "Total      136   19.7860                 1.0000              \n",
      "---\n",
      "Signif. codes:  0 ‘***’ 0.001 ‘**’ 0.01 ‘*’ 0.05 ‘.’ 0.1 ‘ ’ 1\n",
      "\n",
      "Call:\n",
      "adonis(formula = dist ~ DietType + (1 | Batch), data = mapping[rownames(use),      ], permutations = 10000) \n",
      "\n",
      "Permutation: free\n",
      "Number of permutations: 10000\n",
      "\n",
      "Terms added sequentially (first to last)\n",
      "\n",
      "           Df SumsOfSqs MeanSqs F.Model      R2    Pr(>F)    \n",
      "DietType    2    7.3635  3.6818  39.715 0.37216 9.999e-05 ***\n",
      "Residuals 134   12.4225  0.0927         0.62784              \n",
      "Total     136   19.7860                 1.00000              \n",
      "---\n",
      "Signif. codes:  0 ‘***’ 0.001 ‘**’ 0.01 ‘*’ 0.05 ‘.’ 0.1 ‘ ’ 1\n"
     ]
    }
   ],
   "source": [
    "distance_file = './distance_matrices/weighted_unifrac_dm.txt'\n",
    "\n",
    "\n",
    "print(distance_file)\n",
    "\n",
    "use  = read.table(file=distance_file,sep='\\t',comment.char='',\n",
    "                header=TRUE,row.names=1,check.names=FALSE)\n",
    "use  = use[,rownames(use)]\n",
    "dist = as.dist(use);\n",
    "\n",
    "model = adonis(dist ~ SpeciesName + (1|Batch),\n",
    "             data=mapping[rownames(use),],\n",
    "             permutations =10000)  \n",
    "print(model)\n",
    "\n",
    "model = adonis(dist ~ TaxaFamily + (1|Batch),\n",
    "             data=mapping[rownames(use),],\n",
    "             permutations =10000)  \n",
    "print(model)\n",
    "\n",
    "model = adonis(dist ~ DietType +  (1|Batch),\n",
    "             data=mapping[rownames(use),],\n",
    "             permutations =10000)  \n",
    "print(model)\n"
   ]
  },
  {
   "cell_type": "markdown",
   "metadata": {
    "run_control": {
     "frozen": false,
     "read_only": false
    }
   },
   "source": [
    "**Unweighted Unifrac**"
   ]
  },
  {
   "cell_type": "code",
   "execution_count": 5,
   "metadata": {
    "ExecuteTime": {
     "end_time": "2017-07-09T19:54:06.003712Z",
     "start_time": "2017-07-09T19:53:31.859Z"
    },
    "collapsed": false,
    "run_control": {
     "frozen": false,
     "read_only": false
    }
   },
   "outputs": [
    {
     "name": "stdout",
     "output_type": "stream",
     "text": [
      "[1] \"./distance_matrices/unweighted_unifrac_dm.txt\"\n",
      "[2] \"./distance_matrices/weighted_unifrac_dm.txt\"  \n",
      "\n",
      "Call:\n",
      "adonis(formula = dist ~ SpeciesName + (1 | Batch), data = mapping[rownames(use),      ], permutations = 10000) \n",
      "\n",
      "Permutation: free\n",
      "Number of permutations: 10000\n",
      "\n",
      "Terms added sequentially (first to last)\n",
      "\n",
      "             Df SumsOfSqs MeanSqs F.Model      R2    Pr(>F)    \n",
      "SpeciesName   8    15.149 1.89362  8.9426 0.35853 9.999e-05 ***\n",
      "Residuals   128    27.105 0.21175         0.64147              \n",
      "Total       136    42.253                 1.00000              \n",
      "---\n",
      "Signif. codes:  0 ‘***’ 0.001 ‘**’ 0.01 ‘*’ 0.05 ‘.’ 0.1 ‘ ’ 1\n",
      "\n",
      "Call:\n",
      "adonis(formula = dist ~ TaxaFamily + (1 | Batch), data = mapping[rownames(use),      ], permutations = 10000) \n",
      "\n",
      "Permutation: free\n",
      "Number of permutations: 10000\n",
      "\n",
      "Terms added sequentially (first to last)\n",
      "\n",
      "            Df SumsOfSqs MeanSqs F.Model      R2    Pr(>F)    \n",
      "TaxaFamily   5    12.481 2.49616  10.983 0.29538 9.999e-05 ***\n",
      "Residuals  131    29.773 0.22727         0.70462              \n",
      "Total      136    42.253                 1.00000              \n",
      "---\n",
      "Signif. codes:  0 ‘***’ 0.001 ‘**’ 0.01 ‘*’ 0.05 ‘.’ 0.1 ‘ ’ 1\n",
      "\n",
      "Call:\n",
      "adonis(formula = dist ~ DietType + (1 | Batch), data = mapping[rownames(use),      ], permutations = 10000) \n",
      "\n",
      "Permutation: free\n",
      "Number of permutations: 10000\n",
      "\n",
      "Terms added sequentially (first to last)\n",
      "\n",
      "           Df SumsOfSqs MeanSqs F.Model      R2    Pr(>F)    \n",
      "DietType    2    10.140  5.0698  21.154 0.23997 9.999e-05 ***\n",
      "Residuals 134    32.114  0.2397         0.76003              \n",
      "Total     136    42.253                 1.00000              \n",
      "---\n",
      "Signif. codes:  0 ‘***’ 0.001 ‘**’ 0.01 ‘*’ 0.05 ‘.’ 0.1 ‘ ’ 1\n"
     ]
    }
   ],
   "source": [
    "distance_file = './distance_matrices/unweighted_unifrac_dm.txt'\n",
    "\n",
    "print(distance_files)\n",
    "\n",
    "use  = read.table(file=distance_file,sep='\\t',comment.char='',\n",
    "                header=TRUE,row.names=1,check.names=FALSE)\n",
    "use  = use[,rownames(use)]\n",
    "dist = as.dist(use);\n",
    "\n",
    "model = adonis(dist ~ SpeciesName + (1|Batch),\n",
    "             data=mapping[rownames(use),],\n",
    "             permutations =10000)  \n",
    "print(model)\n",
    "\n",
    "model = adonis(dist ~ TaxaFamily + (1|Batch),\n",
    "             data=mapping[rownames(use),],\n",
    "             permutations =10000)  \n",
    "print(model)\n",
    "\n",
    "model = adonis(dist ~ DietType +  (1|Batch),\n",
    "             data=mapping[rownames(use),],\n",
    "             permutations =10000)  \n",
    "print(model)\n",
    "\n"
   ]
  },
  {
   "cell_type": "markdown",
   "metadata": {
    "run_control": {
     "frozen": false,
     "read_only": false
    }
   },
   "source": [
    "## Multivarite marginal effects"
   ]
  },
  {
   "cell_type": "code",
   "execution_count": 6,
   "metadata": {
    "ExecuteTime": {
     "end_time": "2017-07-09T19:55:06.507719Z",
     "start_time": "2017-07-09T19:53:32.739Z"
    },
    "collapsed": false,
    "run_control": {
     "frozen": false,
     "read_only": false
    }
   },
   "outputs": [
    {
     "name": "stdout",
     "output_type": "stream",
     "text": [
      "[1] \"./distance_matrices/weighted_unifrac_dm.txt\"\n",
      "Permutation test for adonis under reduced model\n",
      "Marginal effects of terms\n",
      "Permutation: free\n",
      "Number of permutations: 10000\n",
      "\n",
      "adonis2(formula = dist ~ DietType + TaxaFamily, data = mapping[rownames(use), ], permutations = 10000, by = \"margin\")\n",
      "            Df SumOfSqs      F    Pr(>F)    \n",
      "DietType     1   0.6856 8.5270 9.999e-05 ***\n",
      "TaxaFamily   4   1.9706 6.1276 9.999e-05 ***\n",
      "Residual   130  10.4519                     \n",
      "---\n",
      "Signif. codes:  0 ‘***’ 0.001 ‘**’ 0.01 ‘*’ 0.05 ‘.’ 0.1 ‘ ’ 1\n",
      "Permutation test for adonis under reduced model\n",
      "Marginal effects of terms\n",
      "Permutation: free\n",
      "Number of permutations: 10000\n",
      "\n",
      "adonis2(formula = dist ~ TaxaFamily + DietType, data = mapping[rownames(use), ], permutations = 10000, by = \"margin\")\n",
      "            Df SumOfSqs      F    Pr(>F)    \n",
      "TaxaFamily   4   1.9706 6.1276 9.999e-05 ***\n",
      "DietType     1   0.6856 8.5270 9.999e-05 ***\n",
      "Residual   130  10.4519                     \n",
      "---\n",
      "Signif. codes:  0 ‘***’ 0.001 ‘**’ 0.01 ‘*’ 0.05 ‘.’ 0.1 ‘ ’ 1\n"
     ]
    }
   ],
   "source": [
    "distance_file = './distance_matrices/weighted_unifrac_dm.txt'\n",
    "\n",
    "print(distance_file)\n",
    "\n",
    "use  = read.table(file=distance_file,sep='\\t',comment.char='',\n",
    "                header=TRUE,row.names=1,check.names=FALSE)\n",
    "use  = use[,rownames(use)]\n",
    "dist = as.dist(use);\n",
    "\n",
    "model = adonis2(dist ~ DietType + TaxaFamily,\n",
    "             data=mapping[rownames(use),],\n",
    "             permutations =10000,\n",
    "             by='margin')  \n",
    "print (model)\n",
    "\n",
    "model = adonis2(dist ~ TaxaFamily + DietType,\n",
    "             data=mapping[rownames(use),],\n",
    "             permutations =10000,\n",
    "             by='margin')   \n",
    "print(model)"
   ]
  },
  {
   "cell_type": "code",
   "execution_count": 7,
   "metadata": {
    "ExecuteTime": {
     "end_time": "2017-07-09T19:56:00.951817Z",
     "start_time": "2017-07-09T19:53:32.967Z"
    },
    "collapsed": false,
    "run_control": {
     "frozen": false,
     "read_only": false
    }
   },
   "outputs": [
    {
     "name": "stdout",
     "output_type": "stream",
     "text": [
      "[1] \"./distance_matrices/weighted_unifrac_dm.txt\"\n",
      "Permutation test for adonis under reduced model\n",
      "Marginal effects of terms\n",
      "Permutation: free\n",
      "Number of permutations: 10000\n",
      "\n",
      "adonis2(formula = dist ~ DietType + TaxaFamily, data = mapping[rownames(use), ], permutations = 10000, by = \"margin\")\n",
      "            Df SumOfSqs      F    Pr(>F)    \n",
      "DietType     1   0.6856 8.5270 9.999e-05 ***\n",
      "TaxaFamily   4   1.9706 6.1276 9.999e-05 ***\n",
      "Residual   130  10.4519                     \n",
      "---\n",
      "Signif. codes:  0 ‘***’ 0.001 ‘**’ 0.01 ‘*’ 0.05 ‘.’ 0.1 ‘ ’ 1\n",
      "Permutation test for adonis under reduced model\n",
      "Marginal effects of terms\n",
      "Permutation: free\n",
      "Number of permutations: 10000\n",
      "\n",
      "adonis2(formula = dist ~ TaxaFamily + DietType, data = mapping[rownames(use), ], permutations = 10000, by = \"margin\")\n",
      "            Df SumOfSqs      F    Pr(>F)    \n",
      "TaxaFamily   4   1.9706 6.1276 9.999e-05 ***\n",
      "DietType     1   0.6856 8.5270 9.999e-05 ***\n",
      "Residual   130  10.4519                     \n",
      "---\n",
      "Signif. codes:  0 ‘***’ 0.001 ‘**’ 0.01 ‘*’ 0.05 ‘.’ 0.1 ‘ ’ 1\n"
     ]
    }
   ],
   "source": [
    "distance_file = './distance_matrices/weighted_unifrac_dm.txt'\n",
    "\n",
    "print(distance_file)\n",
    "\n",
    "use  = read.table(file=distance_file,sep='\\t',comment.char='',\n",
    "                header=TRUE,row.names=1,check.names=FALSE)\n",
    "use  = use[,rownames(use)]\n",
    "dist = as.dist(use);\n",
    "\n",
    "model = adonis2(dist ~ DietType + TaxaFamily,\n",
    "             data=mapping[rownames(use),],\n",
    "             permutations =10000,\n",
    "             by='margin')  \n",
    "print (model)\n",
    "\n",
    "model = adonis2(dist ~ TaxaFamily + DietType,\n",
    "             data=mapping[rownames(use),],\n",
    "             permutations =10000,\n",
    "             by='margin')   \n",
    "print(model)"
   ]
  },
  {
   "cell_type": "code",
   "execution_count": 8,
   "metadata": {
    "ExecuteTime": {
     "end_time": "2017-07-09T19:56:00.971868Z",
     "start_time": "2017-07-09T19:53:33.187Z"
    },
    "collapsed": false,
    "run_control": {
     "frozen": false,
     "read_only": false
    }
   },
   "outputs": [
    {
     "data": {
      "text/plain": [
       "             TaxaFamily\n",
       "DietType      Cheriogaleidae Daubentoniidae Galagidae Indriidae Lemuridae\n",
       "  folivore                 0              0         0        31         4\n",
       "  insectivore             38              3         1         0         0\n",
       "  omnivore                 0              0         0         0        58\n",
       "             TaxaFamily\n",
       "DietType      Lorisidae\n",
       "  folivore            0\n",
       "  insectivore         2\n",
       "  omnivore            0"
      ]
     },
     "metadata": {},
     "output_type": "display_data"
    }
   ],
   "source": [
    "with(mapping[rownames(use),],table(DietType,TaxaFamily))"
   ]
  }
 ],
 "metadata": {
  "hide_input": false,
  "kernelspec": {
   "display_name": "R",
   "language": "R",
   "name": "ir"
  },
  "language_info": {
   "codemirror_mode": "r",
   "file_extension": ".r",
   "mimetype": "text/x-r-source",
   "name": "R",
   "pygments_lexer": "r",
   "version": "3.3.1"
  },
  "toc": {
   "colors": {
    "hover_highlight": "#DAA520",
    "running_highlight": "#FF0000",
    "selected_highlight": "#FFD700"
   },
   "moveMenuLeft": true,
   "nav_menu": {
    "height": "48px",
    "width": "252px"
   },
   "navigate_menu": true,
   "number_sections": true,
   "sideBar": true,
   "threshold": 4,
   "toc_cell": false,
   "toc_section_display": "block",
   "toc_window_display": true,
   "widenNotebook": false
  }
 },
 "nbformat": 4,
 "nbformat_minor": 2
}
