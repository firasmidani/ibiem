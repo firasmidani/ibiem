{
 "cells": [
  {
   "cell_type": "markdown",
   "metadata": {
    "run_control": {
     "frozen": false,
     "read_only": false
    }
   },
   "source": [
    "## ANOVA on alpha diversity"
   ]
  },
  {
   "cell_type": "code",
   "execution_count": 1,
   "metadata": {
    "ExecuteTime": {
     "end_time": "2017-06-22T16:19:27.962102Z",
     "start_time": "2017-06-22T16:19:26.769Z"
    },
    "collapsed": false,
    "run_control": {
     "frozen": false,
     "read_only": false
    }
   },
   "outputs": [
    {
     "name": "stderr",
     "output_type": "stream",
     "text": [
      "Warning message:\n",
      "“package ‘vegan’ was built under R version 3.3.2”Loading required package: permute\n",
      "Loading required package: lattice\n",
      "This is vegan 2.4-2\n"
     ]
    }
   ],
   "source": [
    "#setwd('/Users/firasmidani/Documents/ibiem/20170620/ibiem')\n",
    "\n",
    "library(vegan)"
   ]
  },
  {
   "cell_type": "markdown",
   "metadata": {
    "run_control": {
     "frozen": false,
     "read_only": false
    }
   },
   "source": [
    "** Import data **"
   ]
  },
  {
   "cell_type": "code",
   "execution_count": 42,
   "metadata": {
    "ExecuteTime": {
     "end_time": "2017-06-22T16:30:56.845689Z",
     "start_time": "2017-06-22T16:30:56.804Z"
    },
    "collapsed": false,
    "run_control": {
     "frozen": false,
     "read_only": false
    }
   },
   "outputs": [
    {
     "data": {
      "text/html": [
       "<ol class=list-inline>\n",
       "\t<li>137</li>\n",
       "\t<li>12</li>\n",
       "</ol>\n"
      ],
      "text/latex": [
       "\\begin{enumerate*}\n",
       "\\item 137\n",
       "\\item 12\n",
       "\\end{enumerate*}\n"
      ],
      "text/markdown": [
       "1. 137\n",
       "2. 12\n",
       "\n",
       "\n"
      ],
      "text/plain": [
       "[1] 137  12"
      ]
     },
     "metadata": {},
     "output_type": "display_data"
    },
    {
     "data": {
      "text/html": [
       "<ol class=list-inline>\n",
       "\t<li>137</li>\n",
       "\t<li>7</li>\n",
       "</ol>\n"
      ],
      "text/latex": [
       "\\begin{enumerate*}\n",
       "\\item 137\n",
       "\\item 7\n",
       "\\end{enumerate*}\n"
      ],
      "text/markdown": [
       "1. 137\n",
       "2. 7\n",
       "\n",
       "\n"
      ],
      "text/plain": [
       "[1] 137   7"
      ]
     },
     "metadata": {},
     "output_type": "display_data"
    }
   ],
   "source": [
    "mapping = read.table(file='./data/mapping_file.txt',\n",
    "                      sep='\\t',comment.char='', \n",
    "                      header=TRUE,row.names=1,check.names=FALSE)\n",
    "mapping = mapping[order(row.names(mapping)),]\n",
    "dim(mapping)\n",
    "\n",
    "alpha = read.table(file='./data/alpha.txt',\n",
    "                   sep='\\t',comment.char='', \n",
    "                   header=TRUE,row.names=1,check.names=FALSE)\n",
    "alpha = alpha[order(row.names(alpha)),]\n",
    "dim(alpha)\n",
    "\n",
    "distance_file = './distance_matrices/weighted_unifrac_otu_table.txt'"
   ]
  },
  {
   "cell_type": "code",
   "execution_count": 45,
   "metadata": {
    "ExecuteTime": {
     "end_time": "2017-06-22T16:31:02.851984Z",
     "start_time": "2017-06-22T16:31:02.828Z"
    },
    "collapsed": false,
    "run_control": {
     "frozen": false,
     "read_only": false
    }
   },
   "outputs": [
    {
     "data": {
      "text/html": [
       "<table>\n",
       "<thead><tr><th></th><th scope=col>observed</th><th scope=col>singles</th><th scope=col>doubles</th><th scope=col>shannon</th><th scope=col>equitability</th><th scope=col>chao1</th><th scope=col>PD_whole_tree</th></tr></thead>\n",
       "<tbody>\n",
       "\t<tr><th scope=row>1</th><td>7078     </td><td>5316     </td><td>758      </td><td>6.901912 </td><td>0.5396704</td><td>25691.00 </td><td>372.5329 </td></tr>\n",
       "\t<tr><th scope=row>10</th><td>9001     </td><td>6835     </td><td>983      </td><td>7.208400 </td><td>0.5487569</td><td>32735.95 </td><td>433.9361 </td></tr>\n",
       "\t<tr><th scope=row>100</th><td>7176     </td><td>5541     </td><td>704      </td><td>6.813908 </td><td>0.5319640</td><td>28947.02 </td><td>366.4359 </td></tr>\n",
       "\t<tr><th scope=row>101</th><td>7780     </td><td>5799     </td><td>874      </td><td>6.921206 </td><td>0.5354668</td><td>26992.92 </td><td>388.8604 </td></tr>\n",
       "\t<tr><th scope=row>102</th><td>5064     </td><td>3739     </td><td>590      </td><td>6.898085 </td><td>0.5605437</td><td>16888.35 </td><td>301.0207 </td></tr>\n",
       "\t<tr><th scope=row>103</th><td>6075     </td><td>4457     </td><td>709      </td><td>6.949772 </td><td>0.5529442</td><td>20061.19 </td><td>342.9521 </td></tr>\n",
       "</tbody>\n",
       "</table>\n"
      ],
      "text/latex": [
       "\\begin{tabular}{r|lllllll}\n",
       "  & observed & singles & doubles & shannon & equitability & chao1 & PD\\_whole\\_tree\\\\\n",
       "\\hline\n",
       "\t1 & 7078      & 5316      & 758       & 6.901912  & 0.5396704 & 25691.00  & 372.5329 \\\\\n",
       "\t10 & 9001      & 6835      & 983       & 7.208400  & 0.5487569 & 32735.95  & 433.9361 \\\\\n",
       "\t100 & 7176      & 5541      & 704       & 6.813908  & 0.5319640 & 28947.02  & 366.4359 \\\\\n",
       "\t101 & 7780      & 5799      & 874       & 6.921206  & 0.5354668 & 26992.92  & 388.8604 \\\\\n",
       "\t102 & 5064      & 3739      & 590       & 6.898085  & 0.5605437 & 16888.35  & 301.0207 \\\\\n",
       "\t103 & 6075      & 4457      & 709       & 6.949772  & 0.5529442 & 20061.19  & 342.9521 \\\\\n",
       "\\end{tabular}\n"
      ],
      "text/markdown": [
       "\n",
       "| <!--/--> | observed | singles | doubles | shannon | equitability | chao1 | PD_whole_tree | \n",
       "|---|---|---|---|---|---|\n",
       "| 1 | 7078      | 5316      | 758       | 6.901912  | 0.5396704 | 25691.00  | 372.5329  | \n",
       "| 10 | 9001      | 6835      | 983       | 7.208400  | 0.5487569 | 32735.95  | 433.9361  | \n",
       "| 100 | 7176      | 5541      | 704       | 6.813908  | 0.5319640 | 28947.02  | 366.4359  | \n",
       "| 101 | 7780      | 5799      | 874       | 6.921206  | 0.5354668 | 26992.92  | 388.8604  | \n",
       "| 102 | 5064      | 3739      | 590       | 6.898085  | 0.5605437 | 16888.35  | 301.0207  | \n",
       "| 103 | 6075      | 4457      | 709       | 6.949772  | 0.5529442 | 20061.19  | 342.9521  | \n",
       "\n",
       "\n"
      ],
      "text/plain": [
       "    observed singles doubles shannon  equitability chao1    PD_whole_tree\n",
       "1   7078     5316    758     6.901912 0.5396704    25691.00 372.5329     \n",
       "10  9001     6835    983     7.208400 0.5487569    32735.95 433.9361     \n",
       "100 7176     5541    704     6.813908 0.5319640    28947.02 366.4359     \n",
       "101 7780     5799    874     6.921206 0.5354668    26992.92 388.8604     \n",
       "102 5064     3739    590     6.898085 0.5605437    16888.35 301.0207     \n",
       "103 6075     4457    709     6.949772 0.5529442    20061.19 342.9521     "
      ]
     },
     "metadata": {},
     "output_type": "display_data"
    }
   ],
   "source": [
    "head(alpha)"
   ]
  },
  {
   "cell_type": "code",
   "execution_count": 46,
   "metadata": {
    "ExecuteTime": {
     "end_time": "2017-06-22T16:31:06.362917Z",
     "start_time": "2017-06-22T16:31:06.333Z"
    },
    "collapsed": false,
    "run_control": {
     "frozen": false,
     "read_only": false
    }
   },
   "outputs": [
    {
     "data": {
      "text/html": [
       "<table>\n",
       "<thead><tr><th></th><th scope=col>BarcodeSequence</th><th scope=col>LinkerPrimerSequence</th><th scope=col>SpeciesName</th><th scope=col>AnimalName</th><th scope=col>CollectionDate</th><th scope=col>DietType</th><th scope=col>ActivityType</th><th scope=col>TaxaSuperFamily</th><th scope=col>TaxaFamily</th><th scope=col>Batch</th><th scope=col>ReadCount</th><th scope=col>Description</th></tr></thead>\n",
       "<tbody>\n",
       "\t<tr><th scope=row>1</th><td>CCTCGCATGACC         </td><td>GTGTGYCAGCMGCCGCGGTAA</td><td>M.murinus            </td><td>Briony               </td><td>7/22/16              </td><td>insectivore          </td><td>nocturnal            </td><td>Lemuroid             </td><td>Cheriogaleidae       </td><td>1                    </td><td> 98792               </td><td>1_A1                 </td></tr>\n",
       "\t<tr><th scope=row>10</th><td>CCAGGACAGGAA         </td><td>GTGTGYCAGCMGCCGCGGTAA</td><td>M.murinus            </td><td>PricklyPear          </td><td>8/9/16               </td><td>insectivore          </td><td>nocturnal            </td><td>Lemuroid             </td><td>Cheriogaleidae       </td><td>1                    </td><td>118641               </td><td>1_A9                 </td></tr>\n",
       "\t<tr><th scope=row>100</th><td>CAGCCCTACCCA         </td><td>GTGTGYCAGCMGCCGCGGTAA</td><td>M.murinus            </td><td>TexasPete            </td><td>6/21/16              </td><td>insectivore          </td><td>nocturnal            </td><td>Lemuroid             </td><td>Cheriogaleidae       </td><td>1                    </td><td>110104               </td><td>1_H11                </td></tr>\n",
       "\t<tr><th scope=row>101</th><td>TCGTTGGGACTA         </td><td>GTGTGYCAGCMGCCGCGGTAA</td><td>M.murinus            </td><td>Poblano              </td><td>6/21/16              </td><td>insectivore          </td><td>nocturnal            </td><td>Lemuroid             </td><td>Cheriogaleidae       </td><td>1                    </td><td>121862               </td><td>1_H12                </td></tr>\n",
       "\t<tr><th scope=row>102</th><td>GTTTGGCCACAC         </td><td>GTGTGYCAGCMGCCGCGGTAA</td><td>M.murinus            </td><td>Jicama               </td><td>6/21/16              </td><td>insectivore          </td><td>nocturnal            </td><td>Lemuroid             </td><td>Cheriogaleidae       </td><td>1                    </td><td> 69338               </td><td>2_A1                 </td></tr>\n",
       "\t<tr><th scope=row>103</th><td>GTCCTACACAGC         </td><td>GTGTGYCAGCMGCCGCGGTAA</td><td>M.murinus            </td><td>Oleander             </td><td>6/21/16              </td><td>insectivore          </td><td>nocturnal            </td><td>Lemuroid             </td><td>Cheriogaleidae       </td><td>1                    </td><td>103755               </td><td>2_A2                 </td></tr>\n",
       "</tbody>\n",
       "</table>\n"
      ],
      "text/latex": [
       "\\begin{tabular}{r|llllllllllll}\n",
       "  & BarcodeSequence & LinkerPrimerSequence & SpeciesName & AnimalName & CollectionDate & DietType & ActivityType & TaxaSuperFamily & TaxaFamily & Batch & ReadCount & Description\\\\\n",
       "\\hline\n",
       "\t1 & CCTCGCATGACC          & GTGTGYCAGCMGCCGCGGTAA & M.murinus             & Briony                & 7/22/16               & insectivore           & nocturnal             & Lemuroid              & Cheriogaleidae        & 1                     &  98792                & 1\\_A1               \\\\\n",
       "\t10 & CCAGGACAGGAA          & GTGTGYCAGCMGCCGCGGTAA & M.murinus             & PricklyPear           & 8/9/16                & insectivore           & nocturnal             & Lemuroid              & Cheriogaleidae        & 1                     & 118641                & 1\\_A9               \\\\\n",
       "\t100 & CAGCCCTACCCA          & GTGTGYCAGCMGCCGCGGTAA & M.murinus             & TexasPete             & 6/21/16               & insectivore           & nocturnal             & Lemuroid              & Cheriogaleidae        & 1                     & 110104                & 1\\_H11              \\\\\n",
       "\t101 & TCGTTGGGACTA          & GTGTGYCAGCMGCCGCGGTAA & M.murinus             & Poblano               & 6/21/16               & insectivore           & nocturnal             & Lemuroid              & Cheriogaleidae        & 1                     & 121862                & 1\\_H12              \\\\\n",
       "\t102 & GTTTGGCCACAC          & GTGTGYCAGCMGCCGCGGTAA & M.murinus             & Jicama                & 6/21/16               & insectivore           & nocturnal             & Lemuroid              & Cheriogaleidae        & 1                     &  69338                & 2\\_A1               \\\\\n",
       "\t103 & GTCCTACACAGC          & GTGTGYCAGCMGCCGCGGTAA & M.murinus             & Oleander              & 6/21/16               & insectivore           & nocturnal             & Lemuroid              & Cheriogaleidae        & 1                     & 103755                & 2\\_A2               \\\\\n",
       "\\end{tabular}\n"
      ],
      "text/markdown": [
       "\n",
       "| <!--/--> | BarcodeSequence | LinkerPrimerSequence | SpeciesName | AnimalName | CollectionDate | DietType | ActivityType | TaxaSuperFamily | TaxaFamily | Batch | ReadCount | Description | \n",
       "|---|---|---|---|---|---|\n",
       "| 1 | CCTCGCATGACC          | GTGTGYCAGCMGCCGCGGTAA | M.murinus             | Briony                | 7/22/16               | insectivore           | nocturnal             | Lemuroid              | Cheriogaleidae        | 1                     |  98792                | 1_A1                  | \n",
       "| 10 | CCAGGACAGGAA          | GTGTGYCAGCMGCCGCGGTAA | M.murinus             | PricklyPear           | 8/9/16                | insectivore           | nocturnal             | Lemuroid              | Cheriogaleidae        | 1                     | 118641                | 1_A9                  | \n",
       "| 100 | CAGCCCTACCCA          | GTGTGYCAGCMGCCGCGGTAA | M.murinus             | TexasPete             | 6/21/16               | insectivore           | nocturnal             | Lemuroid              | Cheriogaleidae        | 1                     | 110104                | 1_H11                 | \n",
       "| 101 | TCGTTGGGACTA          | GTGTGYCAGCMGCCGCGGTAA | M.murinus             | Poblano               | 6/21/16               | insectivore           | nocturnal             | Lemuroid              | Cheriogaleidae        | 1                     | 121862                | 1_H12                 | \n",
       "| 102 | GTTTGGCCACAC          | GTGTGYCAGCMGCCGCGGTAA | M.murinus             | Jicama                | 6/21/16               | insectivore           | nocturnal             | Lemuroid              | Cheriogaleidae        | 1                     |  69338                | 2_A1                  | \n",
       "| 103 | GTCCTACACAGC          | GTGTGYCAGCMGCCGCGGTAA | M.murinus             | Oleander              | 6/21/16               | insectivore           | nocturnal             | Lemuroid              | Cheriogaleidae        | 1                     | 103755                | 2_A2                  | \n",
       "\n",
       "\n"
      ],
      "text/plain": [
       "    BarcodeSequence LinkerPrimerSequence  SpeciesName AnimalName \n",
       "1   CCTCGCATGACC    GTGTGYCAGCMGCCGCGGTAA M.murinus   Briony     \n",
       "10  CCAGGACAGGAA    GTGTGYCAGCMGCCGCGGTAA M.murinus   PricklyPear\n",
       "100 CAGCCCTACCCA    GTGTGYCAGCMGCCGCGGTAA M.murinus   TexasPete  \n",
       "101 TCGTTGGGACTA    GTGTGYCAGCMGCCGCGGTAA M.murinus   Poblano    \n",
       "102 GTTTGGCCACAC    GTGTGYCAGCMGCCGCGGTAA M.murinus   Jicama     \n",
       "103 GTCCTACACAGC    GTGTGYCAGCMGCCGCGGTAA M.murinus   Oleander   \n",
       "    CollectionDate DietType    ActivityType TaxaSuperFamily TaxaFamily    \n",
       "1   7/22/16        insectivore nocturnal    Lemuroid        Cheriogaleidae\n",
       "10  8/9/16         insectivore nocturnal    Lemuroid        Cheriogaleidae\n",
       "100 6/21/16        insectivore nocturnal    Lemuroid        Cheriogaleidae\n",
       "101 6/21/16        insectivore nocturnal    Lemuroid        Cheriogaleidae\n",
       "102 6/21/16        insectivore nocturnal    Lemuroid        Cheriogaleidae\n",
       "103 6/21/16        insectivore nocturnal    Lemuroid        Cheriogaleidae\n",
       "    Batch ReadCount Description\n",
       "1   1      98792    1_A1       \n",
       "10  1     118641    1_A9       \n",
       "100 1     110104    1_H11      \n",
       "101 1     121862    1_H12      \n",
       "102 1      69338    2_A1       \n",
       "103 1     103755    2_A2       "
      ]
     },
     "metadata": {},
     "output_type": "display_data"
    }
   ],
   "source": [
    "head(mapping)"
   ]
  },
  {
   "cell_type": "code",
   "execution_count": 61,
   "metadata": {
    "ExecuteTime": {
     "end_time": "2017-06-22T16:33:48.786279Z",
     "start_time": "2017-06-22T16:33:48.744Z"
    },
    "collapsed": false,
    "run_control": {
     "frozen": false,
     "read_only": false
    },
    "scrolled": true
   },
   "outputs": [
    {
     "data": {
      "text/html": [
       "<ol class=list-inline>\n",
       "\t<li>137</li>\n",
       "\t<li>20</li>\n",
       "</ol>\n"
      ],
      "text/latex": [
       "\\begin{enumerate*}\n",
       "\\item 137\n",
       "\\item 20\n",
       "\\end{enumerate*}\n"
      ],
      "text/markdown": [
       "1. 137\n",
       "2. 20\n",
       "\n",
       "\n"
      ],
      "text/plain": [
       "[1] 137  20"
      ]
     },
     "metadata": {},
     "output_type": "display_data"
    },
    {
     "data": {
      "text/html": [
       "<table>\n",
       "<thead><tr><th scope=col>Row.names</th><th scope=col>observed</th><th scope=col>singles</th><th scope=col>doubles</th><th scope=col>shannon</th><th scope=col>equitability</th><th scope=col>chao1</th><th scope=col>PD_whole_tree</th><th scope=col>BarcodeSequence</th><th scope=col>LinkerPrimerSequence</th><th scope=col>SpeciesName</th><th scope=col>AnimalName</th><th scope=col>CollectionDate</th><th scope=col>DietType</th><th scope=col>ActivityType</th><th scope=col>TaxaSuperFamily</th><th scope=col>TaxaFamily</th><th scope=col>Batch</th><th scope=col>ReadCount</th><th scope=col>Description</th></tr></thead>\n",
       "<tbody>\n",
       "\t<tr><td>1                    </td><td>7078                 </td><td>5316                 </td><td>758                  </td><td>6.901912             </td><td>0.5396704            </td><td>25691.00             </td><td>372.5329             </td><td>CCTCGCATGACC         </td><td>GTGTGYCAGCMGCCGCGGTAA</td><td>M.murinus            </td><td>Briony               </td><td>7/22/16              </td><td>insectivore          </td><td>nocturnal            </td><td>Lemuroid             </td><td>Cheriogaleidae       </td><td>1                    </td><td> 98792               </td><td>1_A1                 </td></tr>\n",
       "\t<tr><td>10                   </td><td>9001                 </td><td>6835                 </td><td>983                  </td><td>7.208400             </td><td>0.5487569            </td><td>32735.95             </td><td>433.9361             </td><td>CCAGGACAGGAA         </td><td>GTGTGYCAGCMGCCGCGGTAA</td><td>M.murinus            </td><td>PricklyPear          </td><td>8/9/16               </td><td>insectivore          </td><td>nocturnal            </td><td>Lemuroid             </td><td>Cheriogaleidae       </td><td>1                    </td><td>118641               </td><td>1_A9                 </td></tr>\n",
       "\t<tr><td>100                  </td><td>7176                 </td><td>5541                 </td><td>704                  </td><td>6.813908             </td><td>0.5319640            </td><td>28947.02             </td><td>366.4359             </td><td>CAGCCCTACCCA         </td><td>GTGTGYCAGCMGCCGCGGTAA</td><td>M.murinus            </td><td>TexasPete            </td><td>6/21/16              </td><td>insectivore          </td><td>nocturnal            </td><td>Lemuroid             </td><td>Cheriogaleidae       </td><td>1                    </td><td>110104               </td><td>1_H11                </td></tr>\n",
       "\t<tr><td>101                  </td><td>7780                 </td><td>5799                 </td><td>874                  </td><td>6.921206             </td><td>0.5354668            </td><td>26992.92             </td><td>388.8604             </td><td>TCGTTGGGACTA         </td><td>GTGTGYCAGCMGCCGCGGTAA</td><td>M.murinus            </td><td>Poblano              </td><td>6/21/16              </td><td>insectivore          </td><td>nocturnal            </td><td>Lemuroid             </td><td>Cheriogaleidae       </td><td>1                    </td><td>121862               </td><td>1_H12                </td></tr>\n",
       "\t<tr><td>102                  </td><td>5064                 </td><td>3739                 </td><td>590                  </td><td>6.898085             </td><td>0.5605437            </td><td>16888.35             </td><td>301.0207             </td><td>GTTTGGCCACAC         </td><td>GTGTGYCAGCMGCCGCGGTAA</td><td>M.murinus            </td><td>Jicama               </td><td>6/21/16              </td><td>insectivore          </td><td>nocturnal            </td><td>Lemuroid             </td><td>Cheriogaleidae       </td><td>1                    </td><td> 69338               </td><td>2_A1                 </td></tr>\n",
       "\t<tr><td>103                  </td><td>6075                 </td><td>4457                 </td><td>709                  </td><td>6.949772             </td><td>0.5529442            </td><td>20061.19             </td><td>342.9521             </td><td>GTCCTACACAGC         </td><td>GTGTGYCAGCMGCCGCGGTAA</td><td>M.murinus            </td><td>Oleander             </td><td>6/21/16              </td><td>insectivore          </td><td>nocturnal            </td><td>Lemuroid             </td><td>Cheriogaleidae       </td><td>1                    </td><td>103755               </td><td>2_A2                 </td></tr>\n",
       "</tbody>\n",
       "</table>\n"
      ],
      "text/latex": [
       "\\begin{tabular}{r|llllllllllllllllllll}\n",
       " Row.names & observed & singles & doubles & shannon & equitability & chao1 & PD\\_whole\\_tree & BarcodeSequence & LinkerPrimerSequence & SpeciesName & AnimalName & CollectionDate & DietType & ActivityType & TaxaSuperFamily & TaxaFamily & Batch & ReadCount & Description\\\\\n",
       "\\hline\n",
       "\t 1                     & 7078                  & 5316                  & 758                   & 6.901912              & 0.5396704             & 25691.00              & 372.5329              & CCTCGCATGACC          & GTGTGYCAGCMGCCGCGGTAA & M.murinus             & Briony                & 7/22/16               & insectivore           & nocturnal             & Lemuroid              & Cheriogaleidae        & 1                     &  98792                & 1\\_A1               \\\\\n",
       "\t 10                    & 9001                  & 6835                  & 983                   & 7.208400              & 0.5487569             & 32735.95              & 433.9361              & CCAGGACAGGAA          & GTGTGYCAGCMGCCGCGGTAA & M.murinus             & PricklyPear           & 8/9/16                & insectivore           & nocturnal             & Lemuroid              & Cheriogaleidae        & 1                     & 118641                & 1\\_A9               \\\\\n",
       "\t 100                   & 7176                  & 5541                  & 704                   & 6.813908              & 0.5319640             & 28947.02              & 366.4359              & CAGCCCTACCCA          & GTGTGYCAGCMGCCGCGGTAA & M.murinus             & TexasPete             & 6/21/16               & insectivore           & nocturnal             & Lemuroid              & Cheriogaleidae        & 1                     & 110104                & 1\\_H11              \\\\\n",
       "\t 101                   & 7780                  & 5799                  & 874                   & 6.921206              & 0.5354668             & 26992.92              & 388.8604              & TCGTTGGGACTA          & GTGTGYCAGCMGCCGCGGTAA & M.murinus             & Poblano               & 6/21/16               & insectivore           & nocturnal             & Lemuroid              & Cheriogaleidae        & 1                     & 121862                & 1\\_H12              \\\\\n",
       "\t 102                   & 5064                  & 3739                  & 590                   & 6.898085              & 0.5605437             & 16888.35              & 301.0207              & GTTTGGCCACAC          & GTGTGYCAGCMGCCGCGGTAA & M.murinus             & Jicama                & 6/21/16               & insectivore           & nocturnal             & Lemuroid              & Cheriogaleidae        & 1                     &  69338                & 2\\_A1               \\\\\n",
       "\t 103                   & 6075                  & 4457                  & 709                   & 6.949772              & 0.5529442             & 20061.19              & 342.9521              & GTCCTACACAGC          & GTGTGYCAGCMGCCGCGGTAA & M.murinus             & Oleander              & 6/21/16               & insectivore           & nocturnal             & Lemuroid              & Cheriogaleidae        & 1                     & 103755                & 2\\_A2               \\\\\n",
       "\\end{tabular}\n"
      ],
      "text/markdown": [
       "\n",
       "Row.names | observed | singles | doubles | shannon | equitability | chao1 | PD_whole_tree | BarcodeSequence | LinkerPrimerSequence | SpeciesName | AnimalName | CollectionDate | DietType | ActivityType | TaxaSuperFamily | TaxaFamily | Batch | ReadCount | Description | \n",
       "|---|---|---|---|---|---|\n",
       "| 1                     | 7078                  | 5316                  | 758                   | 6.901912              | 0.5396704             | 25691.00              | 372.5329              | CCTCGCATGACC          | GTGTGYCAGCMGCCGCGGTAA | M.murinus             | Briony                | 7/22/16               | insectivore           | nocturnal             | Lemuroid              | Cheriogaleidae        | 1                     |  98792                | 1_A1                  | \n",
       "| 10                    | 9001                  | 6835                  | 983                   | 7.208400              | 0.5487569             | 32735.95              | 433.9361              | CCAGGACAGGAA          | GTGTGYCAGCMGCCGCGGTAA | M.murinus             | PricklyPear           | 8/9/16                | insectivore           | nocturnal             | Lemuroid              | Cheriogaleidae        | 1                     | 118641                | 1_A9                  | \n",
       "| 100                   | 7176                  | 5541                  | 704                   | 6.813908              | 0.5319640             | 28947.02              | 366.4359              | CAGCCCTACCCA          | GTGTGYCAGCMGCCGCGGTAA | M.murinus             | TexasPete             | 6/21/16               | insectivore           | nocturnal             | Lemuroid              | Cheriogaleidae        | 1                     | 110104                | 1_H11                 | \n",
       "| 101                   | 7780                  | 5799                  | 874                   | 6.921206              | 0.5354668             | 26992.92              | 388.8604              | TCGTTGGGACTA          | GTGTGYCAGCMGCCGCGGTAA | M.murinus             | Poblano               | 6/21/16               | insectivore           | nocturnal             | Lemuroid              | Cheriogaleidae        | 1                     | 121862                | 1_H12                 | \n",
       "| 102                   | 5064                  | 3739                  | 590                   | 6.898085              | 0.5605437             | 16888.35              | 301.0207              | GTTTGGCCACAC          | GTGTGYCAGCMGCCGCGGTAA | M.murinus             | Jicama                | 6/21/16               | insectivore           | nocturnal             | Lemuroid              | Cheriogaleidae        | 1                     |  69338                | 2_A1                  | \n",
       "| 103                   | 6075                  | 4457                  | 709                   | 6.949772              | 0.5529442             | 20061.19              | 342.9521              | GTCCTACACAGC          | GTGTGYCAGCMGCCGCGGTAA | M.murinus             | Oleander              | 6/21/16               | insectivore           | nocturnal             | Lemuroid              | Cheriogaleidae        | 1                     | 103755                | 2_A2                  | \n",
       "\n",
       "\n"
      ],
      "text/plain": [
       "  Row.names observed singles doubles shannon  equitability chao1   \n",
       "1 1         7078     5316    758     6.901912 0.5396704    25691.00\n",
       "2 10        9001     6835    983     7.208400 0.5487569    32735.95\n",
       "3 100       7176     5541    704     6.813908 0.5319640    28947.02\n",
       "4 101       7780     5799    874     6.921206 0.5354668    26992.92\n",
       "5 102       5064     3739    590     6.898085 0.5605437    16888.35\n",
       "6 103       6075     4457    709     6.949772 0.5529442    20061.19\n",
       "  PD_whole_tree BarcodeSequence LinkerPrimerSequence  SpeciesName AnimalName \n",
       "1 372.5329      CCTCGCATGACC    GTGTGYCAGCMGCCGCGGTAA M.murinus   Briony     \n",
       "2 433.9361      CCAGGACAGGAA    GTGTGYCAGCMGCCGCGGTAA M.murinus   PricklyPear\n",
       "3 366.4359      CAGCCCTACCCA    GTGTGYCAGCMGCCGCGGTAA M.murinus   TexasPete  \n",
       "4 388.8604      TCGTTGGGACTA    GTGTGYCAGCMGCCGCGGTAA M.murinus   Poblano    \n",
       "5 301.0207      GTTTGGCCACAC    GTGTGYCAGCMGCCGCGGTAA M.murinus   Jicama     \n",
       "6 342.9521      GTCCTACACAGC    GTGTGYCAGCMGCCGCGGTAA M.murinus   Oleander   \n",
       "  CollectionDate DietType    ActivityType TaxaSuperFamily TaxaFamily     Batch\n",
       "1 7/22/16        insectivore nocturnal    Lemuroid        Cheriogaleidae 1    \n",
       "2 8/9/16         insectivore nocturnal    Lemuroid        Cheriogaleidae 1    \n",
       "3 6/21/16        insectivore nocturnal    Lemuroid        Cheriogaleidae 1    \n",
       "4 6/21/16        insectivore nocturnal    Lemuroid        Cheriogaleidae 1    \n",
       "5 6/21/16        insectivore nocturnal    Lemuroid        Cheriogaleidae 1    \n",
       "6 6/21/16        insectivore nocturnal    Lemuroid        Cheriogaleidae 1    \n",
       "  ReadCount Description\n",
       "1  98792    1_A1       \n",
       "2 118641    1_A9       \n",
       "3 110104    1_H11      \n",
       "4 121862    1_H12      \n",
       "5  69338    2_A1       \n",
       "6 103755    2_A2       "
      ]
     },
     "metadata": {},
     "output_type": "display_data"
    }
   ],
   "source": [
    "df = merge(alpha,mapping, by=0, all=TRUE)\n",
    "dim(df)\n",
    "head(df)"
   ]
  },
  {
   "cell_type": "markdown",
   "metadata": {
    "run_control": {
     "frozen": false,
     "read_only": false
    }
   },
   "source": [
    "### chao1 index"
   ]
  },
  {
   "cell_type": "code",
   "execution_count": 66,
   "metadata": {
    "ExecuteTime": {
     "end_time": "2017-06-22T16:34:13.897185Z",
     "start_time": "2017-06-22T16:34:13.875Z"
    },
    "collapsed": false,
    "run_control": {
     "frozen": false,
     "read_only": false
    }
   },
   "outputs": [
    {
     "data": {
      "text/plain": [
       "             Df    Sum Sq   Mean Sq F value Pr(>F)    \n",
       "DietType      2 4.757e+09 2.378e+09   76.35 <2e-16 ***\n",
       "Residuals   134 4.174e+09 3.115e+07                   \n",
       "---\n",
       "Signif. codes:  0 ‘***’ 0.001 ‘**’ 0.01 ‘*’ 0.05 ‘.’ 0.1 ‘ ’ 1"
      ]
     },
     "metadata": {},
     "output_type": "display_data"
    }
   ],
   "source": [
    "model = aov(formula = chao1 ~ DietType + (1|Batch), data=df)\n",
    "summary(model)"
   ]
  },
  {
   "cell_type": "code",
   "execution_count": 68,
   "metadata": {
    "ExecuteTime": {
     "end_time": "2017-06-22T16:34:14.733396Z",
     "start_time": "2017-06-22T16:34:14.697Z"
    },
    "collapsed": false,
    "run_control": {
     "frozen": false,
     "read_only": false
    }
   },
   "outputs": [
    {
     "data": {
      "text/plain": [
       "             Df    Sum Sq  Mean Sq F value Pr(>F)    \n",
       "TaxaFamily    5 4.870e+09 9.74e+08   31.42 <2e-16 ***\n",
       "Residuals   131 4.061e+09 3.10e+07                   \n",
       "---\n",
       "Signif. codes:  0 ‘***’ 0.001 ‘**’ 0.01 ‘*’ 0.05 ‘.’ 0.1 ‘ ’ 1"
      ]
     },
     "metadata": {},
     "output_type": "display_data"
    }
   ],
   "source": [
    "model = aov(formula = chao1 ~ TaxaFamily + (1|Batch), data=df)\n",
    "summary(model)"
   ]
  },
  {
   "cell_type": "markdown",
   "metadata": {
    "run_control": {
     "frozen": false,
     "read_only": false
    }
   },
   "source": [
    "### Faith's phylogenetic"
   ]
  },
  {
   "cell_type": "code",
   "execution_count": 67,
   "metadata": {
    "ExecuteTime": {
     "end_time": "2017-06-22T16:34:14.231019Z",
     "start_time": "2017-06-22T16:34:14.170Z"
    },
    "collapsed": false,
    "run_control": {
     "frozen": false,
     "read_only": false
    }
   },
   "outputs": [
    {
     "data": {
      "text/plain": [
       "             Df Sum Sq Mean Sq F value   Pr(>F)    \n",
       "DietType      2 341190  170595   44.81 1.25e-15 ***\n",
       "Residuals   134 510105    3807                     \n",
       "---\n",
       "Signif. codes:  0 ‘***’ 0.001 ‘**’ 0.01 ‘*’ 0.05 ‘.’ 0.1 ‘ ’ 1"
      ]
     },
     "metadata": {},
     "output_type": "display_data"
    }
   ],
   "source": [
    "model = aov(formula = PD_whole_tree ~ DietType + (1|Batch), data=df)\n",
    "summary(model)"
   ]
  },
  {
   "cell_type": "code",
   "execution_count": 69,
   "metadata": {
    "ExecuteTime": {
     "end_time": "2017-06-22T16:34:53.639961Z",
     "start_time": "2017-06-22T16:34:53.521Z"
    },
    "collapsed": false,
    "run_control": {
     "frozen": false,
     "read_only": false
    }
   },
   "outputs": [
    {
     "data": {
      "text/plain": [
       "             Df Sum Sq Mean Sq F value Pr(>F)    \n",
       "TaxaFamily    5 419922   83984    25.5 <2e-16 ***\n",
       "Residuals   131 431373    3293                   \n",
       "---\n",
       "Signif. codes:  0 ‘***’ 0.001 ‘**’ 0.01 ‘*’ 0.05 ‘.’ 0.1 ‘ ’ 1"
      ]
     },
     "metadata": {},
     "output_type": "display_data"
    }
   ],
   "source": [
    "model = aov(formula = PD_whole_tree ~ TaxaFamily + (1|Batch), data=df)\n",
    "summary(model)"
   ]
  },
  {
   "cell_type": "code",
   "execution_count": null,
   "metadata": {
    "collapsed": true,
    "run_control": {
     "frozen": false,
     "read_only": false
    }
   },
   "outputs": [],
   "source": []
  }
 ],
 "metadata": {
  "hide_input": false,
  "kernelspec": {
   "display_name": "R",
   "language": "R",
   "name": "ir"
  },
  "language_info": {
   "codemirror_mode": "r",
   "file_extension": ".r",
   "mimetype": "text/x-r-source",
   "name": "R",
   "pygments_lexer": "r",
   "version": "3.3.1"
  },
  "toc": {
   "colors": {
    "hover_highlight": "#DAA520",
    "running_highlight": "#FF0000",
    "selected_highlight": "#FFD700"
   },
   "moveMenuLeft": true,
   "nav_menu": {
    "height": "48px",
    "width": "252px"
   },
   "navigate_menu": true,
   "number_sections": true,
   "sideBar": true,
   "threshold": 4,
   "toc_cell": false,
   "toc_section_display": "block",
   "toc_window_display": true,
   "widenNotebook": false
  }
 },
 "nbformat": 4,
 "nbformat_minor": 2
}
