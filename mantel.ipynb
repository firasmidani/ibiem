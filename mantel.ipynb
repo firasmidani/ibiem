{
 "cells": [
  {
   "cell_type": "code",
   "execution_count": 2,
   "metadata": {
    "ExecuteTime": {
     "end_time": "2017-07-09T19:53:11.608973Z",
     "start_time": "2017-07-09T15:53:11.257713-04:00"
    },
    "collapsed": false,
    "run_control": {
     "frozen": false,
     "read_only": false
    }
   },
   "outputs": [],
   "source": [
    "import pandas as pd\n",
    "import numpy as np"
   ]
  },
  {
   "cell_type": "markdown",
   "metadata": {
    "run_control": {
     "frozen": false,
     "read_only": false
    }
   },
   "source": [
    "### Mantel tests"
   ]
  },
  {
   "cell_type": "code",
   "execution_count": 3,
   "metadata": {
    "ExecuteTime": {
     "end_time": "2017-07-09T19:53:11.738877Z",
     "start_time": "2017-07-09T15:53:11.667407-04:00"
    },
    "collapsed": false,
    "run_control": {
     "frozen": false,
     "read_only": false
    }
   },
   "outputs": [
    {
     "name": "stdout",
     "output_type": "stream",
     "text": [
      "(137, 137)\n",
      "(137, 137)\n",
      "(137, 137)\n",
      "(137, 137)\n"
     ]
    }
   ],
   "source": [
    "# diet distance matrix\n",
    "diet = pd.read_csv('./diet_distance_matrix.txt',sep='\\t',header=0,index_col=0)\n",
    "print diet.shape\n",
    "\n",
    "# phylogeny distance matrix\n",
    "phylo = pd.read_csv('./phylo_distance_matrix.txt',sep='\\t',header=0,index_col=0)\n",
    "print phylo.shape\n",
    "\n",
    "# weighted Unifrac distance matrix\n",
    "dist = pd.read_csv('./distance_matrices/weighted_unifrac_dm.txt',sep='\\t',header=0,index_col=0)\n",
    "dist = dist.loc[sorted(dist.index),sorted(dist.columns)]\n",
    "print dist.shape\n",
    "\n",
    "# unweighted Unifrac distance matrix\n",
    "un_dist = pd.read_csv('./distance_matrices/unweighted_unifrac_dm.txt',sep='\\t',header=0,index_col=0)\n",
    "un_dist = un_dist.loc[sorted(dist.index),sorted(dist.columns)]\n",
    "print un_dist.shape"
   ]
  },
  {
   "cell_type": "markdown",
   "metadata": {
    "run_control": {
     "frozen": false,
     "read_only": false
    }
   },
   "source": [
    "#### unifrac vs diet"
   ]
  },
  {
   "cell_type": "code",
   "execution_count": 4,
   "metadata": {
    "ExecuteTime": {
     "end_time": "2017-07-09T19:53:18.358594Z",
     "start_time": "2017-07-09T15:53:13.991408-04:00"
    },
    "collapsed": false,
    "run_control": {
     "frozen": false,
     "read_only": false
    }
   },
   "outputs": [
    {
     "name": "stdout",
     "output_type": "stream",
     "text": [
      "(0.19111193572722524, 0.001, 137)\n",
      "(0.28891153169200623, 0.001, 137)\n"
     ]
    }
   ],
   "source": [
    "from skbio.stats.distance import mantel\n",
    "\n",
    "print mantel(x=dist.values,\n",
    "       y=diet.values,\n",
    "       method='spearman')\n",
    "\n",
    "print mantel(x=un_dist.values,\n",
    "       y=diet.values,\n",
    "       method='spearman')"
   ]
  },
  {
   "cell_type": "markdown",
   "metadata": {
    "run_control": {
     "frozen": false,
     "read_only": false
    }
   },
   "source": [
    "#### unifrac vs phylogeny"
   ]
  },
  {
   "cell_type": "code",
   "execution_count": 5,
   "metadata": {
    "ExecuteTime": {
     "end_time": "2017-07-09T19:53:23.573191Z",
     "start_time": "2017-07-09T15:53:18.360724-04:00"
    },
    "collapsed": false,
    "run_control": {
     "frozen": false,
     "read_only": false
    }
   },
   "outputs": [
    {
     "name": "stdout",
     "output_type": "stream",
     "text": [
      "(0.1582526234489883, 0.001, 137)\n",
      "(0.21987501546556112, 0.001, 137)\n"
     ]
    }
   ],
   "source": [
    "from skbio.stats.distance import mantel\n",
    "\n",
    "print mantel(x=dist.values,\n",
    "       y=phylo.values,\n",
    "       method='spearman')\n",
    "\n",
    "print mantel(x=un_dist.values,\n",
    "       y=phylo.values,\n",
    "       method='spearman')"
   ]
  },
  {
   "cell_type": "markdown",
   "metadata": {
    "run_control": {
     "frozen": false,
     "read_only": false
    }
   },
   "source": [
    "#### diet vs phylogeny"
   ]
  },
  {
   "cell_type": "code",
   "execution_count": 6,
   "metadata": {
    "ExecuteTime": {
     "end_time": "2017-07-09T19:53:25.478762Z",
     "start_time": "2017-07-09T15:53:23.576781-04:00"
    },
    "collapsed": false,
    "run_control": {
     "frozen": false,
     "read_only": false
    }
   },
   "outputs": [
    {
     "name": "stdout",
     "output_type": "stream",
     "text": [
      "(0.52241715006052336, 0.001, 137)\n"
     ]
    }
   ],
   "source": [
    "from skbio.stats.distance import mantel\n",
    "\n",
    "print mantel(x=diet.values,\n",
    "       y=phylo.values,\n",
    "       method='spearman')"
   ]
  },
  {
   "cell_type": "code",
   "execution_count": null,
   "metadata": {
    "collapsed": true,
    "run_control": {
     "frozen": false,
     "read_only": false
    }
   },
   "outputs": [],
   "source": []
  }
 ],
 "metadata": {
  "hide_input": false,
  "kernelspec": {
   "display_name": "Python 2",
   "language": "python",
   "name": "python2"
  },
  "language_info": {
   "codemirror_mode": {
    "name": "ipython",
    "version": 2
   },
   "file_extension": ".py",
   "mimetype": "text/x-python",
   "name": "python",
   "nbconvert_exporter": "python",
   "pygments_lexer": "ipython2",
   "version": "2.7.13"
  },
  "toc": {
   "colors": {
    "hover_highlight": "#DAA520",
    "running_highlight": "#FF0000",
    "selected_highlight": "#FFD700"
   },
   "moveMenuLeft": true,
   "nav_menu": {
    "height": "66px",
    "width": "252px"
   },
   "navigate_menu": true,
   "number_sections": true,
   "sideBar": true,
   "threshold": 4,
   "toc_cell": false,
   "toc_position": {
    "height": "587px",
    "left": "0px",
    "right": "auto",
    "top": "106px",
    "width": "253px"
   },
   "toc_section_display": "block",
   "toc_window_display": true,
   "widenNotebook": false
  }
 },
 "nbformat": 4,
 "nbformat_minor": 2
}
