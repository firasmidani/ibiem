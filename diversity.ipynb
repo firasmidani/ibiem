{
 "cells": [
  {
   "cell_type": "code",
   "execution_count": 5,
   "metadata": {
    "ExecuteTime": {
     "end_time": "2017-06-22T16:46:11.609388Z",
     "start_time": "2017-06-22T12:46:11.605459-04:00"
    },
    "collapsed": false,
    "run_control": {
     "frozen": false,
     "read_only": false
    }
   },
   "outputs": [],
   "source": [
    "import pandas as pd\n",
    "import numpy as np"
   ]
  },
  {
   "cell_type": "markdown",
   "metadata": {
    "run_control": {
     "frozen": false,
     "read_only": false
    }
   },
   "source": [
    "**Purpsose** Compute alpha-diversity and betwee-sample distance matrices for samples of lemur gut microbiome. "
   ]
  },
  {
   "cell_type": "markdown",
   "metadata": {
    "run_control": {
     "frozen": false,
     "read_only": false
    }
   },
   "source": [
    "#### alpha diversity"
   ]
  },
  {
   "cell_type": "code",
   "execution_count": 6,
   "metadata": {
    "ExecuteTime": {
     "end_time": "2017-06-22T16:46:15.074312Z",
     "start_time": "2017-06-22T12:46:13.186831-04:00"
    },
    "collapsed": false,
    "run_control": {
     "frozen": false,
     "read_only": true
    }
   },
   "outputs": [
    {
     "name": "stdout",
     "output_type": "stream",
     "text": [
      "Version: alpha_diversity.py 1.9.1\r\n"
     ]
    }
   ],
   "source": [
    "!alpha_diversity.py --version"
   ]
  },
  {
   "cell_type": "code",
   "execution_count": 7,
   "metadata": {
    "ExecuteTime": {
     "end_time": "2017-06-22T16:46:17.426612Z",
     "start_time": "2017-06-22T12:46:15.077956-04:00"
    },
    "collapsed": false,
    "run_control": {
     "frozen": false,
     "read_only": true
    }
   },
   "outputs": [
    {
     "name": "stdout",
     "output_type": "stream",
     "text": [
      "Known metrics are: ace, berger_parker_d, brillouin_d, chao1, chao1_ci, dominance, doubles, enspie, equitability, esty_ci, fisher_alpha, gini_index, goods_coverage, heip_e, kempton_taylor_q, margalef, mcintosh_d, mcintosh_e, menhinick, michaelis_menten_fit, observed_otus, observed_species, osd, simpson_reciprocal, robbins, shannon, simpson, simpson_e, singles, strong, PD_whole_tree\r\n",
      "\r\n",
      "For more information, see http://scikit-bio.org/docs/latest/generated/skbio.diversity.alpha.html\r\n"
     ]
    }
   ],
   "source": [
    "!alpha_diversity.py -s"
   ]
  },
  {
   "cell_type": "code",
   "execution_count": 8,
   "metadata": {
    "ExecuteTime": {
     "end_time": "2017-06-22T16:50:36.321832Z",
     "start_time": "2017-06-22T12:46:17.429128-04:00"
    },
    "collapsed": false,
    "run_control": {
     "frozen": false,
     "read_only": true
    }
   },
   "outputs": [],
   "source": [
    "!alpha_diversity.py \\\n",
    "    -i ./data/otu_table.biom \\\n",
    "    -t ./data/rep_set.tre \\\n",
    "    -m osd,shannon,equitability,chao1,PD_whole_tree \\\n",
    "    -o ./data/alpha.txt"
   ]
  },
  {
   "cell_type": "markdown",
   "metadata": {
    "run_control": {
     "frozen": false,
     "read_only": false
    }
   },
   "source": [
    "List of metrics\n",
    "* *shannon* Shannon's richness, an entropy of counts\n",
    "* *equitability* Shannon's evenness</br>\n",
    "* *chao1* Chao1 richness</br>\n",
    "* *PD_whole_tree* Faith's phylogenetic diversity</br>\n",
    "* *osd* oberved OTUs, singles, and doubles</br>"
   ]
  },
  {
   "cell_type": "markdown",
   "metadata": {
    "run_control": {
     "frozen": false,
     "read_only": false
    }
   },
   "source": [
    "#### between-ample distance matrices"
   ]
  },
  {
   "cell_type": "code",
   "execution_count": 10,
   "metadata": {
    "ExecuteTime": {
     "end_time": "2017-06-20T15:48:07.790233Z",
     "start_time": "2017-06-20T11:48:05.823715-04:00"
    },
    "collapsed": false,
    "run_control": {
     "frozen": false,
     "read_only": true
    }
   },
   "outputs": [
    {
     "name": "stdout",
     "output_type": "stream",
     "text": [
      "Version: beta_diversity.py 1.9.1\r\n"
     ]
    }
   ],
   "source": [
    "!beta_diversity.py --version"
   ]
  },
  {
   "cell_type": "code",
   "execution_count": 11,
   "metadata": {
    "ExecuteTime": {
     "end_time": "2017-06-20T15:48:13.951816Z",
     "start_time": "2017-06-20T11:48:12.387248-04:00"
    },
    "collapsed": false,
    "run_control": {
     "frozen": false,
     "read_only": true
    }
   },
   "outputs": [
    {
     "name": "stdout",
     "output_type": "stream",
     "text": [
      "Known metrics are: abund_jaccard, binary_chisq, binary_chord, binary_euclidean, binary_hamming, binary_jaccard, binary_lennon, binary_ochiai, binary_otu_gain, binary_pearson, binary_sorensen_dice, bray_curtis, bray_curtis_faith, bray_curtis_magurran, canberra, chisq, chord, euclidean, gower, hellinger, kulczynski, manhattan, morisita_horn, pearson, soergel, spearman_approx, specprof, unifrac, unifrac_g, unifrac_g_full_tree, unweighted_unifrac, unweighted_unifrac_full_tree, weighted_normalized_unifrac, weighted_unifrac\r\n",
      "\r\n"
     ]
    }
   ],
   "source": [
    "!beta_diversity.py -s"
   ]
  },
  {
   "cell_type": "code",
   "execution_count": 16,
   "metadata": {
    "ExecuteTime": {
     "end_time": "2017-06-20T17:04:39.116922Z",
     "start_time": "2017-06-20T11:49:35.642271-04:00"
    },
    "collapsed": false,
    "run_control": {
     "frozen": false,
     "read_only": true
    }
   },
   "outputs": [],
   "source": [
    "!beta_diversity.py \\\n",
    "    -i ./data/otu_table.biom \\\n",
    "    -t ./data/rep_set.tre \\\n",
    "    -m unweighted_unifrac,weighted_unifrac \\\n",
    "    -o ./distance_matrices "
   ]
  }
 ],
 "metadata": {
  "hide_input": false,
  "kernelspec": {
   "display_name": "Python 2",
   "language": "python",
   "name": "python2"
  },
  "language_info": {
   "codemirror_mode": {
    "name": "ipython",
    "version": 2
   },
   "file_extension": ".py",
   "mimetype": "text/x-python",
   "name": "python",
   "nbconvert_exporter": "python",
   "pygments_lexer": "ipython2",
   "version": "2.7.13"
  },
  "toc": {
   "colors": {
    "hover_highlight": "#DAA520",
    "running_highlight": "#FF0000",
    "selected_highlight": "#FFD700"
   },
   "moveMenuLeft": true,
   "nav_menu": {
    "height": "66px",
    "width": "252px"
   },
   "navigate_menu": true,
   "number_sections": true,
   "sideBar": true,
   "threshold": 4,
   "toc_cell": false,
   "toc_position": {
    "height": "587px",
    "left": "0px",
    "right": "auto",
    "top": "106px",
    "width": "253px"
   },
   "toc_section_display": "block",
   "toc_window_display": true,
   "widenNotebook": false
  }
 },
 "nbformat": 4,
 "nbformat_minor": 2
}
