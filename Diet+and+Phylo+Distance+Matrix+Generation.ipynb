{
 "cells": [
  {
   "cell_type": "markdown",
   "metadata": {},
   "source": [
    "# Diet Distance Matrix Generation\n",
    " Generate diet distance matrix based on diet composition with bary-curtis dissimilarity as measurement "
   ]
  },
  {
   "cell_type": "code",
   "execution_count": 2,
   "metadata": {
    "collapsed": true
   },
   "outputs": [],
   "source": [
    "map=read.csv('map_file.csv')"
   ]
  },
  {
   "cell_type": "code",
   "execution_count": 3,
   "metadata": {
    "collapsed": false
   },
   "outputs": [
    {
     "data": {
      "text/html": [
       "<table>\n",
       "<thead><tr><th scope=col>ChowWeight</th><th scope=col>FruitWeight</th><th scope=col>VegWeight</th><th scope=col>Insects</th><th scope=col>BambooWeight</th><th scope=col>LeavesWeight</th></tr></thead>\n",
       "<tbody>\n",
       "\t<tr><td> 1.5</td><td>15.0</td><td>15.0</td><td> 4.0</td><td> 0.0</td><td> 0.0</td></tr>\n",
       "\t<tr><td> 1.5</td><td>15.0</td><td>15.0</td><td> 4.0</td><td> 0.0</td><td> 0.0</td></tr>\n",
       "\t<tr><td> 1.5</td><td>15.0</td><td>15.0</td><td> 4.0</td><td> 0.0</td><td> 0.0</td></tr>\n",
       "\t<tr><td> 1.5</td><td>15.0</td><td>15.0</td><td> 4.0</td><td> 0.0</td><td> 0.0</td></tr>\n",
       "\t<tr><td> 1.5</td><td>15.0</td><td>15.0</td><td> 4.0</td><td> 0.0</td><td> 0.0</td></tr>\n",
       "\t<tr><td> 1.5</td><td>15.0</td><td>15.0</td><td> 4.0</td><td> 0.0</td><td> 0.0</td></tr>\n",
       "</tbody>\n",
       "</table>\n"
      ],
      "text/latex": [
       "\\begin{tabular}{llllll}\n",
       " ChowWeight & FruitWeight & VegWeight & Insects & BambooWeight & LeavesWeight\\\\\n",
       "\\hline\n",
       "\t  1.5 & 15.0 & 15.0 &  4.0 &  0.0 &  0.0\\\\\n",
       "\t  1.5 & 15.0 & 15.0 &  4.0 &  0.0 &  0.0\\\\\n",
       "\t  1.5 & 15.0 & 15.0 &  4.0 &  0.0 &  0.0\\\\\n",
       "\t  1.5 & 15.0 & 15.0 &  4.0 &  0.0 &  0.0\\\\\n",
       "\t  1.5 & 15.0 & 15.0 &  4.0 &  0.0 &  0.0\\\\\n",
       "\t  1.5 & 15.0 & 15.0 &  4.0 &  0.0 &  0.0\\\\\n",
       "\\end{tabular}\n"
      ],
      "text/markdown": [
       "1. 1.5\n",
       "2. 1.5\n",
       "3. 1.5\n",
       "4. 1.5\n",
       "5. 1.5\n",
       "6. 1.5\n",
       "7. 15\n",
       "8. 15\n",
       "9. 15\n",
       "10. 15\n",
       "11. 15\n",
       "12. 15\n",
       "13. 15\n",
       "14. 15\n",
       "15. 15\n",
       "16. 15\n",
       "17. 15\n",
       "18. 15\n",
       "19. 4\n",
       "20. 4\n",
       "21. 4\n",
       "22. 4\n",
       "23. 4\n",
       "24. 4\n",
       "25. 0\n",
       "26. 0\n",
       "27. 0\n",
       "28. 0\n",
       "29. 0\n",
       "30. 0\n",
       "31. 0\n",
       "32. 0\n",
       "33. 0\n",
       "34. 0\n",
       "35. 0\n",
       "36. 0\n",
       "\n",
       "\n"
      ],
      "text/plain": [
       "     ChowWeight FruitWeight VegWeight Insects BambooWeight LeavesWeight\n",
       "[1,]        1.5          15        15       4            0            0\n",
       "[2,]        1.5          15        15       4            0            0\n",
       "[3,]        1.5          15        15       4            0            0\n",
       "[4,]        1.5          15        15       4            0            0\n",
       "[5,]        1.5          15        15       4            0            0\n",
       "[6,]        1.5          15        15       4            0            0"
      ]
     },
     "metadata": {},
     "output_type": "display_data"
    }
   ],
   "source": [
    "diet=as.matrix(map[,14:19])\n",
    "head(diet)"
   ]
  },
  {
   "cell_type": "code",
   "execution_count": 4,
   "metadata": {
    "collapsed": true
   },
   "outputs": [],
   "source": [
    "diet=diet/apply(diet,1,sum)"
   ]
  },
  {
   "cell_type": "code",
   "execution_count": 5,
   "metadata": {
    "collapsed": false
   },
   "outputs": [
    {
     "name": "stderr",
     "output_type": "stream",
     "text": [
      "Loading required package: permute\n",
      "Loading required package: lattice\n",
      "This is vegan 2.4-3\n"
     ]
    }
   ],
   "source": [
    "library(vegan)\n",
    "diet_dist=vegdist(diet)\n",
    "diet_dist=as.matrix(diet_dist)\n",
    "rownames(diet_dist)=map[,1]\n",
    "colnames(diet_dist)=map[,1]\n",
    "write.csv(diet_dist, file = \"diet_dist.csv\",row.names=T)"
   ]
  },
  {
   "cell_type": "markdown",
   "metadata": {},
   "source": [
    "# Generate Phylogenetic Distance Matrix"
   ]
  },
  {
   "cell_type": "code",
   "execution_count": 6,
   "metadata": {
    "collapsed": false
   },
   "outputs": [
    {
     "data": {
      "text/html": [
       "<table>\n",
       "<thead><tr><th></th><th scope=col>O.crassicaudatus</th><th scope=col>N.pygmaeus</th><th scope=col>D.madagascariensis</th><th scope=col>C.medius</th><th scope=col>M.murinus</th><th scope=col>V.rubra</th><th scope=col>L.catta</th><th scope=col>H..griseus</th><th scope=col>C..sifaka</th></tr></thead>\n",
       "<tbody>\n",
       "\t<tr><th scope=row>O.crassicaudatus</th><td> 0.00</td><td>39.38</td><td>75.04</td><td>75.04</td><td>75.04</td><td>75.04</td><td>75.04</td><td>75.04</td><td>75.04</td></tr>\n",
       "\t<tr><th scope=row>N.pygmaeus</th><td>39.38</td><td> 0.00</td><td>75.04</td><td>75.04</td><td>75.04</td><td>75.04</td><td>75.04</td><td>75.04</td><td>75.04</td></tr>\n",
       "\t<tr><th scope=row>D.madagascariensis</th><td>75.04</td><td>75.04</td><td> 0.00</td><td>66.22</td><td>66.22</td><td>66.22</td><td>66.22</td><td>66.22</td><td>66.22</td></tr>\n",
       "\t<tr><th scope=row>C.medius</th><td>75.04</td><td>75.04</td><td>66.22</td><td> 0.00</td><td>23.05</td><td>39.33</td><td>39.33</td><td>39.33</td><td>35.94</td></tr>\n",
       "\t<tr><th scope=row>M.murinus</th><td>75.04</td><td>75.04</td><td>66.22</td><td>23.05</td><td> 0.00</td><td>39.33</td><td>39.33</td><td>39.33</td><td>35.94</td></tr>\n",
       "\t<tr><th scope=row>V.rubra</th><td>75.04</td><td>75.04</td><td>66.22</td><td>39.33</td><td>39.33</td><td> 0.00</td><td>23.42</td><td>23.42</td><td>39.33</td></tr>\n",
       "\t<tr><th scope=row>L.catta</th><td>75.04</td><td>75.04</td><td>66.22</td><td>39.33</td><td>39.33</td><td>23.42</td><td> 0.00</td><td> 7.78</td><td>39.33</td></tr>\n",
       "\t<tr><th scope=row>H. griseus</th><td>75.04</td><td>75.04</td><td>66.22</td><td>39.33</td><td>39.33</td><td>23.42</td><td> 7.78</td><td> 0.00</td><td>39.33</td></tr>\n",
       "\t<tr><th scope=row>C. sifaka</th><td>75.04</td><td>75.04</td><td>66.22</td><td>35.94</td><td>35.94</td><td>39.33</td><td>39.33</td><td>39.33</td><td> 0.00</td></tr>\n",
       "</tbody>\n",
       "</table>\n"
      ],
      "text/latex": [
       "\\begin{tabular}{r|lllllllll}\n",
       "  & O.crassicaudatus & N.pygmaeus & D.madagascariensis & C.medius & M.murinus & V.rubra & L.catta & H..griseus & C..sifaka\\\\\n",
       "\\hline\n",
       "\tO.crassicaudatus &  0.00 & 39.38 & 75.04 & 75.04 & 75.04 & 75.04 & 75.04 & 75.04 & 75.04\\\\\n",
       "\tN.pygmaeus & 39.38 &  0.00 & 75.04 & 75.04 & 75.04 & 75.04 & 75.04 & 75.04 & 75.04\\\\\n",
       "\tD.madagascariensis & 75.04 & 75.04 &  0.00 & 66.22 & 66.22 & 66.22 & 66.22 & 66.22 & 66.22\\\\\n",
       "\tC.medius & 75.04 & 75.04 & 66.22 &  0.00 & 23.05 & 39.33 & 39.33 & 39.33 & 35.94\\\\\n",
       "\tM.murinus & 75.04 & 75.04 & 66.22 & 23.05 &  0.00 & 39.33 & 39.33 & 39.33 & 35.94\\\\\n",
       "\tV.rubra & 75.04 & 75.04 & 66.22 & 39.33 & 39.33 &  0.00 & 23.42 & 23.42 & 39.33\\\\\n",
       "\tL.catta & 75.04 & 75.04 & 66.22 & 39.33 & 39.33 & 23.42 &  0.00 &  7.78 & 39.33\\\\\n",
       "\tH. griseus & 75.04 & 75.04 & 66.22 & 39.33 & 39.33 & 23.42 &  7.78 &  0.00 & 39.33\\\\\n",
       "\tC. sifaka & 75.04 & 75.04 & 66.22 & 35.94 & 35.94 & 39.33 & 39.33 & 39.33 &  0.00\\\\\n",
       "\\end{tabular}\n"
      ],
      "text/plain": [
       "                   O.crassicaudatus N.pygmaeus D.madagascariensis C.medius\n",
       "O.crassicaudatus               0.00      39.38              75.04    75.04\n",
       "N.pygmaeus                    39.38       0.00              75.04    75.04\n",
       "D.madagascariensis            75.04      75.04               0.00    66.22\n",
       "C.medius                      75.04      75.04              66.22     0.00\n",
       "M.murinus                     75.04      75.04              66.22    23.05\n",
       "V.rubra                       75.04      75.04              66.22    39.33\n",
       "L.catta                       75.04      75.04              66.22    39.33\n",
       "H. griseus                    75.04      75.04              66.22    39.33\n",
       "C. sifaka                     75.04      75.04              66.22    35.94\n",
       "                   M.murinus V.rubra L.catta H..griseus C..sifaka\n",
       "O.crassicaudatus       75.04   75.04   75.04      75.04     75.04\n",
       "N.pygmaeus             75.04   75.04   75.04      75.04     75.04\n",
       "D.madagascariensis     66.22   66.22   66.22      66.22     66.22\n",
       "C.medius               23.05   39.33   39.33      39.33     35.94\n",
       "M.murinus               0.00   39.33   39.33      39.33     35.94\n",
       "V.rubra                39.33    0.00   23.42      23.42     39.33\n",
       "L.catta                39.33   23.42    0.00       7.78     39.33\n",
       "H. griseus             39.33   23.42    7.78       0.00     39.33\n",
       "C. sifaka              35.94   39.33   39.33      39.33      0.00"
      ]
     },
     "metadata": {},
     "output_type": "display_data"
    }
   ],
   "source": [
    "divergence=read.csv(\"IBIEM_Phylo_Divergence_Matrix.csv\",row.name=1)\n",
    "divergence"
   ]
  },
  {
   "cell_type": "code",
   "execution_count": 7,
   "metadata": {
    "collapsed": true
   },
   "outputs": [],
   "source": [
    "n=length(map$SpeciesName)\n",
    "p_distance=matrix(0,n,n)\n",
    "for (i in 1:n){\n",
    "    for (j in 1:n){\n",
    "        p_distance[i,j]=divergence[rownames(divergence)==map$SpeciesName[i],rownames(divergence)==map$SpeciesName[j]]\n",
    "    }\n",
    "}\n",
    "rownames(p_distance)=map[,1]\n",
    "colnames(p_distance)=map[,1]\n",
    "write.csv(p_distance, file = \"phylo_dist.csv\",row.names=T)"
   ]
  },
  {
   "cell_type": "code",
   "execution_count": null,
   "metadata": {
    "collapsed": true
   },
   "outputs": [],
   "source": []
  }
 ],
 "metadata": {
  "kernelspec": {
   "display_name": "R",
   "language": "R",
   "name": "ir"
  },
  "language_info": {
   "codemirror_mode": "r",
   "file_extension": ".r",
   "mimetype": "text/x-r-source",
   "name": "R",
   "pygments_lexer": "r",
   "version": "3.3.1"
  }
 },
 "nbformat": 4,
 "nbformat_minor": 0
}
